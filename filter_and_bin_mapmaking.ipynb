{
 "cells": [
  {
   "cell_type": "markdown",
   "id": "f899d5a3-586d-4d2d-94ce-b923c7481d38",
   "metadata": {},
   "source": [
    "<a href=\"https://colab.research.google.com/github/arahlin/spt3g_tutorials/blob/main/filter_and_bin_mapmaking.ipynb\" target=\"_parent\"><img src=\"https://colab.research.google.com/assets/colab-badge.svg\" alt=\"Open In Colab\"/></a>"
   ]
  },
  {
   "cell_type": "markdown",
   "id": "62f15b5f-ed8a-45de-8b62-9f10d0390b04",
   "metadata": {},
   "source": [
    "# Timestream Processing and Mapmaking with SPT Data\n",
    "\n",
    "In this notebook, we'll be looking at some data from the South Pole Telescope using the [spt3g_software](https://github.com/CMB-S4/spt3g_software) code.  The data processing we will cover in this tutorial is typically one of the first stages in CMB data analysis: cleaning up the timestreams and filtering out unwanted noise and features, and binning the timestreams into map pixels.  While the tools we'll be using are part of the SPT software suite, the techniques are typical of any such time-domain dataset.\n",
    "\n",
    "To get started, let's first download and install all of the necessary components.  If you're running this notebook from one of the SPT analysis machines, you should already have `spt3g_software` installed.  If you're running it on your laptop or in Google Colab, the code below will install the public package for you.\n",
    "\n",
    "For SPT collaboration members:  we use the *private* version of the software, which includes extra libraries.  The github repo for the private code can be found [here](https://github.com/SouthPoleTelescope/spt3g_software) and links to [this documentation](https://southpoletelescope.github.io/spt3g_software/)."
   ]
  },
  {
   "cell_type": "code",
   "id": "26e39e5c-3bca-4da0-a174-bc9df3554934",
   "metadata": {},
   "source": [
    "# install required packages\n",
    "!ls /sptlocal || (python -c \"import spt3g\" || python -m pip install spt3g)\n",
    "\n",
    "# SPT users: link to dataset\n",
    "!ls spt3g_tutorial_data || ( \\\n",
    "    ls /sptlocal/user/arahlin/spt3g_tutorial_data && \\\n",
    "    ln -s /sptlocal/user/arahlin/spt3g_tutorial_data \\\n",
    ")\n",
    "\n",
    "# Public users: download dataset\n",
    "!ls spt3g_tutorial_data || ( \\\n",
    "    rm -f spt3g_tutorial_data.tar.gz && \\\n",
    "    wget https://sptlocal.grid.uchicago.edu/~arahlin/cmb_school_2024/spt3g_tutorial_data.tar.gz && \\\n",
    "    tar xzvf spt3g_tutorial_data.tar.gz \\\n",
    ")\n",
    "\n",
    "# delete cruft\n",
    "!rm -rf sample_data"
   ],
   "outputs": [],
   "execution_count": null
  },
  {
   "cell_type": "markdown",
   "id": "3b50be77-7989-4a8a-9731-5560d16aaae2",
   "metadata": {},
   "source": [
    "While the above cell is executing (the download may take some time if you're doing this on a local machine), spend a few minutes familiarizing yourself with the [documentation](https://cmb-s4.github.io/spt3g_software/) (or [for SPT members](https://southpoletelescope.github.io/spt3g_software/)).  Today, we'll be covering the following topics:\n",
    "\n",
    "- how to work with G3Frames and G3FrameObjects, and combining them into pipelines\n",
    "- how to use G3Units\n",
    "- how to work with detector calibration data\n",
    "- the basics of timestream processing and working with G3TimestreamMap objects\n",
    "- simple (filter-and-bin) mapmaking, which combines detector timestreams into a map on the sky\n",
    "\n",
    "Once the installation is complete, let's make sure the package works, and import all the necessary libraries into the python environment:"
   ]
  },
  {
   "cell_type": "code",
   "id": "4eaed692-f1e7-4cf7-b3db-9691cf1b9ff7",
   "metadata": {
    "ExecuteTime": {
     "end_time": "2025-03-18T19:36:33.525153Z",
     "start_time": "2025-03-18T19:36:33.519115Z"
    }
   },
   "source": [
    "import spt3g\n",
    "from spt3g import core\n",
    "from spt3g.core import G3Units as U\n",
    "import numpy as np\n",
    "import matplotlib.pyplot as plt"
   ],
   "outputs": [],
   "execution_count": 39
  },
  {
   "cell_type": "markdown",
   "id": "a4fda08b-b938-4007-a690-cb33c362e39e",
   "metadata": {},
   "source": [
    "## G3 Data Format\n",
    "\n",
    "The G3 file format stores data into \"frames\", which behave much like python `dict`s, with a few additional features.  Let's start by reading in a set of static calibration data for a subset of SPT detectors.  One way to load a file from disk is to use the `G3File` class.  When initialized with a filename, this object behaves like a generator, which returns a frame when looped over.  In general, you do *not* want to read every frame in a file like this using `list`; this risk loading every single frame in a large file into memory at the same time.  Later in this tutorial, you'll see how to iterate over many frames using a concept called *pipelines*.  For now, we happen to know that this particular file contains only a single frame, so we can convert the generator into a list and return the first frame:"
   ]
  },
  {
   "cell_type": "code",
   "id": "0c09cf3a-860a-4b8d-ba82-1f16379d0d67",
   "metadata": {
    "ExecuteTime": {
     "end_time": "2025-03-18T19:14:17.270797Z",
     "start_time": "2025-03-18T19:14:17.255698Z"
    }
   },
   "source": [
    "calframe = list(core.G3File(\"spt3g_tutorial_data/calibration.g3\"))[0]\n",
    "print(calframe)"
   ],
   "outputs": [
    {
     "name": "stdout",
     "output_type": "stream",
     "text": [
      "Frame (Calibration) [\n",
      "\"DetectorCalibration\" (spt3g._libcore.G3MapDouble) => 3276 elements\n",
      "\"DetectorCalibrationUnits\" (spt3g._libcore.G3Int) => 4\n",
      "\"DetectorPolAngle\" (spt3g._libcore.G3MapDouble) => 3276 elements\n",
      "\"DetectorXOffset\" (spt3g._libcore.G3MapDouble) => 3276 elements\n",
      "\"DetectorYOffset\" (spt3g._libcore.G3MapDouble) => 3276 elements\n",
      "\"ObservationID\" (spt3g._libcore.G3Int) => 235982247\n",
      "\"SourceName\" (spt3g._libcore.G3String) => \"RCW38\"\n",
      "]\n"
     ]
    }
   ],
   "execution_count": 37
  },
  {
   "cell_type": "markdown",
   "id": "43cfa6ca-3423-460c-aad5-38842437fabf",
   "metadata": {},
   "source": [
    "This frame contains several keys.  Let's take a look at the `DetectorCalibration` object first.  This is a mapping (i.e. a `dict`), keyed by detector name, of calibration constants for each detector in the dataset."
   ]
  },
  {
   "cell_type": "code",
   "id": "663e9446-f0f7-4d46-b15f-a42d7d7485c5",
   "metadata": {
    "ExecuteTime": {
     "end_time": "2025-03-18T19:16:22.471369Z",
     "start_time": "2025-03-18T19:16:22.464586Z"
    }
   },
   "source": [
    "cal = calframe[\"DetectorCalibration\"]\n",
    "print(cal)\n",
    "# print the first 10 keys\n",
    "print(cal.keys()[:10])\n",
    "# print the calibration for one detector\n",
    "print(cal[\"2019.00e\"])"
   ],
   "outputs": [
    {
     "name": "stdout",
     "output_type": "stream",
     "text": [
      "3276 elements\n",
      "['2019.00e', '2019.00k', '2019.00n', '2019.00r', '2019.00t', '2019.012', '2019.014', '2019.01f', '2019.01k', '2019.01q']\n",
      "-0.6491192244684366\n"
     ]
    }
   ],
   "execution_count": 38
  },
  {
   "cell_type": "markdown",
   "id": "72dcfaf9-679c-493e-a33c-7ef434581cee",
   "metadata": {},
   "source": [
    "All frames have a `.type` attribute which tells the user something about what kind of data to expect them to contain.  The above frame is a `Calibration` frame, which typically contains the sorts of data one might use to *calibrate* some other data.  Other common frame types are `Scan` frames, which typically contain some time-ordered data, and `Map` frames, which typically contain sky maps.  There is no specific standard for what keys to expect in any kind of frame, although we impose a standard by virtue of building tools around certain frame types.  For example, take a look at the [`spt3g.maps` package](https://cmb-s4.github.io/spt3g_software/moddoc_maps.html) for tools for working with map objects and map frames."
   ]
  },
  {
   "cell_type": "markdown",
   "id": "c9bdaa85-c0ed-46e1-ad48-7494b6d5b8d9",
   "metadata": {},
   "source": [
    "## Units\n",
    "\n",
    "*NB: If you've ever used [astropy units](https://docs.astropy.org/en/stable/units/index.html), this concept is very similar, except with fewer bells and whistles.*\n",
    "\n",
    "All unitful data are stored [\"in G3Units\"](https://cmb-s4.github.io/spt3g_software/units.html), meaning that they have been multiplied by some constant, whose value you do not need to know.  To convert a value in G3Units to one with physical meaning, simply divide by the units you want.  The various available units can be found by checking the attributes of the `core.G3Units` object (aliased as `U` here)."
   ]
  },
  {
   "cell_type": "code",
   "id": "eab0c10d-bf53-473e-8467-e05da7ec2788",
   "metadata": {
    "ExecuteTime": {
     "end_time": "2025-03-18T19:48:43.453225Z",
     "start_time": "2025-03-18T19:48:43.439873Z"
    }
   },
   "source": [
    "dir(U)"
   ],
   "outputs": [
    {
     "data": {
      "text/plain": [
       "['A',\n",
       " 'AU',\n",
       " 'B',\n",
       " 'GB',\n",
       " 'GHz',\n",
       " 'Hz',\n",
       " 'Jy',\n",
       " 'K',\n",
       " 'KB',\n",
       " 'MB',\n",
       " 'MHz',\n",
       " 'MJy',\n",
       " 'Pa',\n",
       " 'R',\n",
       " 'V',\n",
       " 'W',\n",
       " '__class__',\n",
       " '__delattr__',\n",
       " '__dict__',\n",
       " '__dir__',\n",
       " '__doc__',\n",
       " '__eq__',\n",
       " '__format__',\n",
       " '__ge__',\n",
       " '__getattribute__',\n",
       " '__gt__',\n",
       " '__hash__',\n",
       " '__init__',\n",
       " '__init_subclass__',\n",
       " '__le__',\n",
       " '__lt__',\n",
       " '__module__',\n",
       " '__ne__',\n",
       " '__new__',\n",
       " '__reduce__',\n",
       " '__reduce_ex__',\n",
       " '__repr__',\n",
       " '__setattr__',\n",
       " '__sizeof__',\n",
       " '__str__',\n",
       " '__subclasshook__',\n",
       " '__weakref__',\n",
       " 'aW',\n",
       " 'amp',\n",
       " 'ampere',\n",
       " 'arcmin',\n",
       " 'arcmin2',\n",
       " 'arcsec',\n",
       " 'attowatt',\n",
       " 'au',\n",
       " 'b',\n",
       " 'bar',\n",
       " 'bit',\n",
       " 'byte',\n",
       " 'centimeter',\n",
       " 'cm',\n",
       " 'day',\n",
       " 'days',\n",
       " 'deg',\n",
       " 'deg2',\n",
       " 'degree',\n",
       " 'degrees',\n",
       " 'foot',\n",
       " 'ft',\n",
       " 'g',\n",
       " 'gigabyte',\n",
       " 'gram',\n",
       " 'h',\n",
       " 'horsepower',\n",
       " 'hour',\n",
       " 'hours',\n",
       " 'hp',\n",
       " 'hz',\n",
       " 'in',\n",
       " 'inch',\n",
       " 'jansky',\n",
       " 'kHz',\n",
       " 'kPa',\n",
       " 'kelvin',\n",
       " 'kg',\n",
       " 'kilobyte',\n",
       " 'kilogram',\n",
       " 'kilometer',\n",
       " 'km',\n",
       " 'm',\n",
       " 'mA',\n",
       " 'mJy',\n",
       " 'mK',\n",
       " 'mV',\n",
       " 'mW',\n",
       " 'mb',\n",
       " 'megabyte',\n",
       " 'megajansky',\n",
       " 'meter',\n",
       " 'meters',\n",
       " 'mg',\n",
       " 'microamp',\n",
       " 'microkelvin',\n",
       " 'micron',\n",
       " 'microsecond',\n",
       " 'microseconds',\n",
       " 'microvolt',\n",
       " 'microwatt',\n",
       " 'milliamp',\n",
       " 'millibar',\n",
       " 'milligram',\n",
       " 'millijansky',\n",
       " 'millikelvin',\n",
       " 'millimeter',\n",
       " 'millisecond',\n",
       " 'milliseconds',\n",
       " 'millivolt',\n",
       " 'milliwatt',\n",
       " 'min',\n",
       " 'minute',\n",
       " 'minutes',\n",
       " 'mm',\n",
       " 'ms',\n",
       " 'nA',\n",
       " 'nK',\n",
       " 'nW',\n",
       " 'nanoamp',\n",
       " 'nanokelvin',\n",
       " 'nanometer',\n",
       " 'nanosecond',\n",
       " 'nanoseconds',\n",
       " 'nanowatt',\n",
       " 'nm',\n",
       " 'ns',\n",
       " 'pK',\n",
       " 'pW',\n",
       " 'parsec',\n",
       " 'pc',\n",
       " 'picokelvin',\n",
       " 'picowatt',\n",
       " 'rad',\n",
       " 'radian',\n",
       " 'radians',\n",
       " 'rahour',\n",
       " 'rahr',\n",
       " 'raminute',\n",
       " 'rankine',\n",
       " 'rasecond',\n",
       " 'rel',\n",
       " 's',\n",
       " 'sec',\n",
       " 'second',\n",
       " 'seconds',\n",
       " 'snausage',\n",
       " 'sqarcmin',\n",
       " 'sqdeg',\n",
       " 'squarearcmin',\n",
       " 'squaredegree',\n",
       " 'squaredegrees',\n",
       " 'sr',\n",
       " 'steradian',\n",
       " 'steradians',\n",
       " 'uA',\n",
       " 'uK',\n",
       " 'uV',\n",
       " 'uW',\n",
       " 'us',\n",
       " 'volt',\n",
       " 'watt']"
      ]
     },
     "execution_count": 40,
     "metadata": {},
     "output_type": "execute_result"
    }
   ],
   "execution_count": 40
  },
  {
   "cell_type": "markdown",
   "id": "d147795e-8ac3-410b-a6e2-428f29d44b46",
   "metadata": {},
   "source": [
    "#### <span style=\"color:red\">EXERCISE:</span>\n",
    "\n",
    "Make a scatter plot of the detector offsets (`\"DetectorXOffset\"` and `\"DetectorYOffset\"` keys in the frame) for all of the channels in this dataset, in units of arcminutes (i.e. `U.arcmin`).  The detectors in the array lie on a so-called focal plane inside the telescope, so neighboring detectors do not necessarily see light rays from the same point on the sky as the telescope moves -- their pointing is shifted relative to that of the effective center, or \"boresight\" of the telescope. What does the pattern of offsets look like?"
   ]
  },
  {
   "cell_type": "code",
   "id": "b5a55f80-7fa1-490c-b78f-6ba8a2f2d050",
   "metadata": {
    "ExecuteTime": {
     "end_time": "2025-03-18T19:49:39.131128Z",
     "start_time": "2025-03-18T19:49:39.123847Z"
    }
   },
   "source": [
    "xoff = calframe[\"DetectorXOffset\"]\n",
    "yoff = calframe[\"DetectorYOffset\"]"
   ],
   "outputs": [],
   "execution_count": 41
  },
  {
   "cell_type": "code",
   "id": "62122e94-2190-4a32-831f-ef3d474503ba",
   "metadata": {
    "ExecuteTime": {
     "end_time": "2025-03-18T20:16:56.271398Z",
     "start_time": "2025-03-18T20:16:56.148245Z"
    }
   },
   "source": [
    "# your code and plots go here\n",
    "assert set(xoff.keys()) == set(yoff.keys())\n",
    "x_arcmins = []\n",
    "y_arcmins = []\n",
    "for key in xoff.keys():\n",
    "    x_arcmins.append(xoff[key] / U.arcmin)\n",
    "    y_arcmins.append(yoff[key] / U.arcmin)\n",
    "plt.scatter(x_arcmins, y_arcmins)\n",
    "plt.xlabel(\"DetectorXOffset [arcmin]\")\n",
    "plt.ylabel(\"DetectorYOffset [arcmin]\");\n",
    "plt.show()"
   ],
   "outputs": [
    {
     "data": {
      "text/plain": [
       "<Figure size 640x480 with 1 Axes>"
      ],
      "image/png": "[encoded data removed]"
     },
     "metadata": {},
     "output_type": "display_data"
    }
   ],
   "execution_count": 65
  },
  {
   "cell_type": "markdown",
   "id": "1e45f185-dc58-4e06-8d2f-f969472522d4",
   "metadata": {},
   "source": [
    "Another entry in our calibration frame is called `DetectorCalibrationUnits`, which defines the *family* of units in which detector timestreams end up when the appropriate calibration constants are applied.  The `core.G3TimestreamUnits` enum object contains the various families of units that are available.  What units family are the calibration constants stored in? Which of the G3Units attributes would you use for converting these data to physical values?"
   ]
  },
  {
   "cell_type": "code",
   "id": "006bdc84-7b06-4f64-88b8-96ec5ae9f13c",
   "metadata": {
    "ExecuteTime": {
     "end_time": "2025-03-18T20:08:51.999740Z",
     "start_time": "2025-03-18T20:08:51.994201Z"
    }
   },
   "source": [
    "# print the mapping from an integer value to a units family name\n",
    "print(core.G3TimestreamUnits.values)\n",
    "cal_units = core.G3TimestreamUnits.values[calframe[\"DetectorCalibrationUnits\"]]\n",
    "print(cal_units)"
   ],
   "outputs": [
    {
     "name": "stdout",
     "output_type": "stream",
     "text": [
      "{0: spt3g._libcore.G3TimestreamUnits.None, 1: spt3g._libcore.G3TimestreamUnits.Counts, 2: spt3g._libcore.G3TimestreamUnits.Current, 3: spt3g._libcore.G3TimestreamUnits.Power, 5: spt3g._libcore.G3TimestreamUnits.Resistance, 4: spt3g._libcore.G3TimestreamUnits.Tcmb, 6: spt3g._libcore.G3TimestreamUnits.Angle, 7: spt3g._libcore.G3TimestreamUnits.Distance, 8: spt3g._libcore.G3TimestreamUnits.Voltage, 9: spt3g._libcore.G3TimestreamUnits.Pressure, 10: spt3g._libcore.G3TimestreamUnits.FluxDensity}\n",
      "Tcmb\n"
     ]
    }
   ],
   "execution_count": 59
  },
  {
   "cell_type": "markdown",
   "id": "4ddd74c6-b3d0-4d53-b81b-0948482f92ba",
   "metadata": {},
   "source": [
    "## Modules and Pipelines\n",
    "\n",
    "A common way of manipulating SPT data is to write `modules`, which are functions or classes that take a `G3Frame` as an argument and manipulate it.  We can combine multiple modules together into a `pipeline` to analyze a stream of frames in sequence.  For more details on how this works, see the [documentation](https://cmb-s4.github.io/spt3g_software/modules.html).\n",
    "\n",
    "For example, here is a simple pipeline module that reads our timestream data and prints it out:"
   ]
  },
  {
   "cell_type": "code",
   "id": "4517929c-cc06-48d7-8f65-7362ca7001a7",
   "metadata": {
    "ExecuteTime": {
     "end_time": "2025-03-18T20:09:12.701970Z",
     "start_time": "2025-03-18T20:09:00.261895Z"
    }
   },
   "source": [
    "# create a pipeline\n",
    "pipe = core.G3Pipeline()\n",
    "\n",
    "# add modules (processing steps) to the pipeline\n",
    "pipe.Add(core.G3Reader, filename=\"spt3g_tutorial_data/timestreams.g3\")\n",
    "pipe.Add(core.Dump)\n",
    "\n",
    "# run it!\n",
    "pipe.Run()"
   ],
   "outputs": [
    {
     "name": "stdout",
     "output_type": "stream",
     "text": [
      "Frame (Observation) [\n",
      "\"ObservationID\" (spt3g._libcore.G3Int) => 235982247\n",
      "\"ObservationStart\" (spt3g._libcore.G3Time) => 24-Jun-2024:06:37:27.000000000\n",
      "\"ObservationStop\" (spt3g._libcore.G3Time) => 24-Jun-2024:06:42:57.000000000\n",
      "\"SourceName\" (spt3g._libcore.G3String) => \"RCW38\"\n",
      "]\n",
      "Frame (PipelineInfo) [\n",
      "\"18-Mar-2025:20:09:00.473370000\" (spt3g._libcore.G3PipelineInfo) => UNKNOWN VCS branch, no local diffs\n",
      "]\n",
      "Frame (Scan) [\n",
      "\"BoresightDec\" (spt3g._libcore.G3Timestream) => 782 samples at 152.6 Hz\n",
      "\"BoresightRa\" (spt3g._libcore.G3Timestream) => 782 samples at 152.6 Hz\n",
      "\"RawTimestreams\" (spt3g._libcore.G3TimestreamMap) => Timestreams from 1611 detectors\n",
      "\"Turnaround\" (spt3g._libcore.G3Bool) => True\n",
      "]\n",
      "Frame (Scan) [\n",
      "\"BoresightDec\" (spt3g._libcore.G3Timestream) => 1110 samples at 152.6 Hz\n",
      "\"BoresightRa\" (spt3g._libcore.G3Timestream) => 1110 samples at 152.6 Hz\n",
      "\"RawTimestreams\" (spt3g._libcore.G3TimestreamMap) => Timestreams from 1369 detectors\n",
      "]\n",
      "Frame (Scan) [\n",
      "\"BoresightDec\" (spt3g._libcore.G3Timestream) => 221 samples at 152.6 Hz\n",
      "\"BoresightRa\" (spt3g._libcore.G3Timestream) => 221 samples at 152.6 Hz\n",
      "\"RawTimestreams\" (spt3g._libcore.G3TimestreamMap) => Timestreams from 1380 detectors\n",
      "\"Turnaround\" (spt3g._libcore.G3Bool) => True\n",
      "]\n",
      "Frame (Scan) [\n",
      "\"BoresightDec\" (spt3g._libcore.G3Timestream) => 1109 samples at 152.6 Hz\n",
      "\"BoresightRa\" (spt3g._libcore.G3Timestream) => 1109 samples at 152.6 Hz\n",
      "\"RawTimestreams\" (spt3g._libcore.G3TimestreamMap) => Timestreams from 1383 detectors\n",
      "]\n",
      "Frame (Scan) [\n",
      "\"BoresightDec\" (spt3g._libcore.G3Timestream) => 315 samples at 152.6 Hz\n",
      "\"BoresightRa\" (spt3g._libcore.G3Timestream) => 315 samples at 152.6 Hz\n",
      "\"RawTimestreams\" (spt3g._libcore.G3TimestreamMap) => Timestreams from 1382 detectors\n",
      "\"Turnaround\" (spt3g._libcore.G3Bool) => True\n",
      "]\n",
      "Frame (Scan) [\n",
      "\"BoresightDec\" (spt3g._libcore.G3Timestream) => 1109 samples at 152.6 Hz\n",
      "\"BoresightRa\" (spt3g._libcore.G3Timestream) => 1109 samples at 152.6 Hz\n",
      "\"RawTimestreams\" (spt3g._libcore.G3TimestreamMap) => Timestreams from 1400 detectors\n",
      "]\n",
      "Frame (Scan) [\n",
      "\"BoresightDec\" (spt3g._libcore.G3Timestream) => 221 samples at 152.6 Hz\n",
      "\"BoresightRa\" (spt3g._libcore.G3Timestream) => 221 samples at 152.6 Hz\n",
      "\"RawTimestreams\" (spt3g._libcore.G3TimestreamMap) => Timestreams from 1393 detectors\n",
      "\"Turnaround\" (spt3g._libcore.G3Bool) => True\n",
      "]\n",
      "Frame (Scan) [\n",
      "\"BoresightDec\" (spt3g._libcore.G3Timestream) => 1109 samples at 152.6 Hz\n",
      "\"BoresightRa\" (spt3g._libcore.G3Timestream) => 1109 samples at 152.6 Hz\n",
      "\"RawTimestreams\" (spt3g._libcore.G3TimestreamMap) => Timestreams from 1398 detectors\n",
      "]\n",
      "Frame (Scan) [\n",
      "\"BoresightDec\" (spt3g._libcore.G3Timestream) => 307 samples at 152.6 Hz\n",
      "\"BoresightRa\" (spt3g._libcore.G3Timestream) => 307 samples at 152.6 Hz\n",
      "\"RawTimestreams\" (spt3g._libcore.G3TimestreamMap) => Timestreams from 1395 detectors\n",
      "\"Turnaround\" (spt3g._libcore.G3Bool) => True\n",
      "]\n",
      "Frame (Scan) [\n",
      "\"BoresightDec\" (spt3g._libcore.G3Timestream) => 1109 samples at 152.6 Hz\n",
      "\"BoresightRa\" (spt3g._libcore.G3Timestream) => 1109 samples at 152.6 Hz\n",
      "\"RawTimestreams\" (spt3g._libcore.G3TimestreamMap) => Timestreams from 1404 detectors\n",
      "]\n",
      "Frame (Scan) [\n",
      "\"BoresightDec\" (spt3g._libcore.G3Timestream) => 222 samples at 152.6 Hz\n",
      "\"BoresightRa\" (spt3g._libcore.G3Timestream) => 222 samples at 152.6 Hz\n",
      "\"RawTimestreams\" (spt3g._libcore.G3TimestreamMap) => Timestreams from 1401 detectors\n",
      "\"Turnaround\" (spt3g._libcore.G3Bool) => True\n",
      "]\n",
      "Frame (Scan) [\n",
      "\"BoresightDec\" (spt3g._libcore.G3Timestream) => 1109 samples at 152.6 Hz\n",
      "\"BoresightRa\" (spt3g._libcore.G3Timestream) => 1109 samples at 152.6 Hz\n",
      "\"RawTimestreams\" (spt3g._libcore.G3TimestreamMap) => Timestreams from 1404 detectors\n",
      "]\n",
      "Frame (Scan) [\n",
      "\"BoresightDec\" (spt3g._libcore.G3Timestream) => 308 samples at 152.6 Hz\n",
      "\"BoresightRa\" (spt3g._libcore.G3Timestream) => 308 samples at 152.6 Hz\n",
      "\"RawTimestreams\" (spt3g._libcore.G3TimestreamMap) => Timestreams from 1411 detectors\n",
      "\"Turnaround\" (spt3g._libcore.G3Bool) => True\n",
      "]\n",
      "Frame (Scan) [\n",
      "\"BoresightDec\" (spt3g._libcore.G3Timestream) => 1110 samples at 152.6 Hz\n",
      "\"BoresightRa\" (spt3g._libcore.G3Timestream) => 1110 samples at 152.6 Hz\n",
      "\"RawTimestreams\" (spt3g._libcore.G3TimestreamMap) => Timestreams from 1413 detectors\n",
      "]\n",
      "Frame (Scan) [\n",
      "\"BoresightDec\" (spt3g._libcore.G3Timestream) => 221 samples at 152.6 Hz\n",
      "\"BoresightRa\" (spt3g._libcore.G3Timestream) => 221 samples at 152.6 Hz\n",
      "\"RawTimestreams\" (spt3g._libcore.G3TimestreamMap) => Timestreams from 1414 detectors\n",
      "\"Turnaround\" (spt3g._libcore.G3Bool) => True\n",
      "]\n",
      "Frame (Scan) [\n",
      "\"BoresightDec\" (spt3g._libcore.G3Timestream) => 1109 samples at 152.6 Hz\n",
      "\"BoresightRa\" (spt3g._libcore.G3Timestream) => 1109 samples at 152.6 Hz\n",
      "\"RawTimestreams\" (spt3g._libcore.G3TimestreamMap) => Timestreams from 1413 detectors\n",
      "]\n",
      "Frame (Scan) [\n",
      "\"BoresightDec\" (spt3g._libcore.G3Timestream) => 307 samples at 152.6 Hz\n",
      "\"BoresightRa\" (spt3g._libcore.G3Timestream) => 307 samples at 152.6 Hz\n",
      "\"RawTimestreams\" (spt3g._libcore.G3TimestreamMap) => Timestreams from 1424 detectors\n",
      "\"Turnaround\" (spt3g._libcore.G3Bool) => True\n",
      "]\n",
      "Frame (Scan) [\n",
      "\"BoresightDec\" (spt3g._libcore.G3Timestream) => 1109 samples at 152.6 Hz\n",
      "\"BoresightRa\" (spt3g._libcore.G3Timestream) => 1109 samples at 152.6 Hz\n",
      "\"RawTimestreams\" (spt3g._libcore.G3TimestreamMap) => Timestreams from 1429 detectors\n",
      "]\n",
      "Frame (Scan) [\n",
      "\"BoresightDec\" (spt3g._libcore.G3Timestream) => 221 samples at 152.6 Hz\n",
      "\"BoresightRa\" (spt3g._libcore.G3Timestream) => 221 samples at 152.6 Hz\n",
      "\"RawTimestreams\" (spt3g._libcore.G3TimestreamMap) => Timestreams from 1432 detectors\n",
      "\"Turnaround\" (spt3g._libcore.G3Bool) => True\n",
      "]\n",
      "Frame (Scan) [\n",
      "\"BoresightDec\" (spt3g._libcore.G3Timestream) => 1110 samples at 152.6 Hz\n",
      "\"BoresightRa\" (spt3g._libcore.G3Timestream) => 1110 samples at 152.6 Hz\n",
      "\"RawTimestreams\" (spt3g._libcore.G3TimestreamMap) => Timestreams from 1429 detectors\n",
      "]\n",
      "Frame (Scan) [\n",
      "\"BoresightDec\" (spt3g._libcore.G3Timestream) => 308 samples at 152.6 Hz\n",
      "\"BoresightRa\" (spt3g._libcore.G3Timestream) => 308 samples at 152.6 Hz\n",
      "\"RawTimestreams\" (spt3g._libcore.G3TimestreamMap) => Timestreams from 1435 detectors\n",
      "\"Turnaround\" (spt3g._libcore.G3Bool) => True\n",
      "]\n",
      "Frame (Scan) [\n",
      "\"BoresightDec\" (spt3g._libcore.G3Timestream) => 1109 samples at 152.6 Hz\n",
      "\"BoresightRa\" (spt3g._libcore.G3Timestream) => 1109 samples at 152.6 Hz\n",
      "\"RawTimestreams\" (spt3g._libcore.G3TimestreamMap) => Timestreams from 1439 detectors\n",
      "]\n",
      "Frame (Scan) [\n",
      "\"BoresightDec\" (spt3g._libcore.G3Timestream) => 221 samples at 152.6 Hz\n",
      "\"BoresightRa\" (spt3g._libcore.G3Timestream) => 221 samples at 152.6 Hz\n",
      "\"RawTimestreams\" (spt3g._libcore.G3TimestreamMap) => Timestreams from 1441 detectors\n",
      "\"Turnaround\" (spt3g._libcore.G3Bool) => True\n",
      "]\n",
      "Frame (Scan) [\n",
      "\"BoresightDec\" (spt3g._libcore.G3Timestream) => 1110 samples at 152.6 Hz\n",
      "\"BoresightRa\" (spt3g._libcore.G3Timestream) => 1110 samples at 152.6 Hz\n",
      "\"RawTimestreams\" (spt3g._libcore.G3TimestreamMap) => Timestreams from 1440 detectors\n",
      "]\n",
      "Frame (Scan) [\n",
      "\"BoresightDec\" (spt3g._libcore.G3Timestream) => 310 samples at 152.6 Hz\n",
      "\"BoresightRa\" (spt3g._libcore.G3Timestream) => 310 samples at 152.6 Hz\n",
      "\"RawTimestreams\" (spt3g._libcore.G3TimestreamMap) => Timestreams from 1443 detectors\n",
      "\"Turnaround\" (spt3g._libcore.G3Bool) => True\n",
      "]\n",
      "Frame (Scan) [\n",
      "\"BoresightDec\" (spt3g._libcore.G3Timestream) => 1109 samples at 152.6 Hz\n",
      "\"BoresightRa\" (spt3g._libcore.G3Timestream) => 1109 samples at 152.6 Hz\n",
      "\"RawTimestreams\" (spt3g._libcore.G3TimestreamMap) => Timestreams from 1450 detectors\n",
      "]\n",
      "Frame (Scan) [\n",
      "\"BoresightDec\" (spt3g._libcore.G3Timestream) => 221 samples at 152.6 Hz\n",
      "\"BoresightRa\" (spt3g._libcore.G3Timestream) => 221 samples at 152.6 Hz\n",
      "\"RawTimestreams\" (spt3g._libcore.G3TimestreamMap) => Timestreams from 1446 detectors\n",
      "\"Turnaround\" (spt3g._libcore.G3Bool) => True\n",
      "]\n",
      "Frame (Scan) [\n",
      "\"BoresightDec\" (spt3g._libcore.G3Timestream) => 1109 samples at 152.6 Hz\n",
      "\"BoresightRa\" (spt3g._libcore.G3Timestream) => 1109 samples at 152.6 Hz\n",
      "\"RawTimestreams\" (spt3g._libcore.G3TimestreamMap) => Timestreams from 1448 detectors\n",
      "]\n",
      "Frame (Scan) [\n",
      "\"BoresightDec\" (spt3g._libcore.G3Timestream) => 309 samples at 152.6 Hz\n",
      "\"BoresightRa\" (spt3g._libcore.G3Timestream) => 309 samples at 152.6 Hz\n",
      "\"RawTimestreams\" (spt3g._libcore.G3TimestreamMap) => Timestreams from 1455 detectors\n",
      "\"Turnaround\" (spt3g._libcore.G3Bool) => True\n",
      "]\n",
      "Frame (Scan) [\n",
      "\"BoresightDec\" (spt3g._libcore.G3Timestream) => 1109 samples at 152.6 Hz\n",
      "\"BoresightRa\" (spt3g._libcore.G3Timestream) => 1109 samples at 152.6 Hz\n",
      "\"RawTimestreams\" (spt3g._libcore.G3TimestreamMap) => Timestreams from 1469 detectors\n",
      "]\n",
      "Frame (Scan) [\n",
      "\"BoresightDec\" (spt3g._libcore.G3Timestream) => 221 samples at 152.6 Hz\n",
      "\"BoresightRa\" (spt3g._libcore.G3Timestream) => 221 samples at 152.6 Hz\n",
      "\"RawTimestreams\" (spt3g._libcore.G3TimestreamMap) => Timestreams from 1462 detectors\n",
      "\"Turnaround\" (spt3g._libcore.G3Bool) => True\n",
      "]\n",
      "Frame (Scan) [\n",
      "\"BoresightDec\" (spt3g._libcore.G3Timestream) => 1110 samples at 152.6 Hz\n",
      "\"BoresightRa\" (spt3g._libcore.G3Timestream) => 1110 samples at 152.6 Hz\n",
      "\"RawTimestreams\" (spt3g._libcore.G3TimestreamMap) => Timestreams from 1467 detectors\n",
      "]\n",
      "Frame (Scan) [\n",
      "\"BoresightDec\" (spt3g._libcore.G3Timestream) => 306 samples at 152.6 Hz\n",
      "\"BoresightRa\" (spt3g._libcore.G3Timestream) => 306 samples at 152.6 Hz\n",
      "\"RawTimestreams\" (spt3g._libcore.G3TimestreamMap) => Timestreams from 1465 detectors\n",
      "\"Turnaround\" (spt3g._libcore.G3Bool) => True\n",
      "]\n",
      "Frame (Scan) [\n",
      "\"BoresightDec\" (spt3g._libcore.G3Timestream) => 1110 samples at 152.6 Hz\n",
      "\"BoresightRa\" (spt3g._libcore.G3Timestream) => 1110 samples at 152.6 Hz\n",
      "\"RawTimestreams\" (spt3g._libcore.G3TimestreamMap) => Timestreams from 1464 detectors\n",
      "]\n",
      "Frame (Scan) [\n",
      "\"BoresightDec\" (spt3g._libcore.G3Timestream) => 221 samples at 152.6 Hz\n",
      "\"BoresightRa\" (spt3g._libcore.G3Timestream) => 221 samples at 152.6 Hz\n",
      "\"RawTimestreams\" (spt3g._libcore.G3TimestreamMap) => Timestreams from 1468 detectors\n",
      "\"Turnaround\" (spt3g._libcore.G3Bool) => True\n",
      "]\n",
      "Frame (Scan) [\n",
      "\"BoresightDec\" (spt3g._libcore.G3Timestream) => 1109 samples at 152.6 Hz\n",
      "\"BoresightRa\" (spt3g._libcore.G3Timestream) => 1109 samples at 152.6 Hz\n",
      "\"RawTimestreams\" (spt3g._libcore.G3TimestreamMap) => Timestreams from 1464 detectors\n",
      "]\n",
      "Frame (Scan) [\n",
      "\"BoresightDec\" (spt3g._libcore.G3Timestream) => 533 samples at 152.6 Hz\n",
      "\"BoresightRa\" (spt3g._libcore.G3Timestream) => 533 samples at 152.6 Hz\n",
      "\"RawTimestreams\" (spt3g._libcore.G3TimestreamMap) => Timestreams from 1676 detectors\n",
      "\"Turnaround\" (spt3g._libcore.G3Bool) => True\n",
      "]\n",
      "Frame (Scan) [\n",
      "\"BoresightDec\" (spt3g._libcore.G3Timestream) => 1109 samples at 152.6 Hz\n",
      "\"BoresightRa\" (spt3g._libcore.G3Timestream) => 1109 samples at 152.6 Hz\n",
      "\"RawTimestreams\" (spt3g._libcore.G3TimestreamMap) => Timestreams from 1571 detectors\n",
      "]\n",
      "Frame (Scan) [\n",
      "\"BoresightDec\" (spt3g._libcore.G3Timestream) => 221 samples at 152.6 Hz\n",
      "\"BoresightRa\" (spt3g._libcore.G3Timestream) => 221 samples at 152.6 Hz\n",
      "\"RawTimestreams\" (spt3g._libcore.G3TimestreamMap) => Timestreams from 1573 detectors\n",
      "\"Turnaround\" (spt3g._libcore.G3Bool) => True\n",
      "]\n",
      "Frame (Scan) [\n",
      "\"BoresightDec\" (spt3g._libcore.G3Timestream) => 1110 samples at 152.6 Hz\n",
      "\"BoresightRa\" (spt3g._libcore.G3Timestream) => 1110 samples at 152.6 Hz\n",
      "\"RawTimestreams\" (spt3g._libcore.G3TimestreamMap) => Timestreams from 1574 detectors\n",
      "]\n",
      "Frame (Scan) [\n",
      "\"BoresightDec\" (spt3g._libcore.G3Timestream) => 312 samples at 152.6 Hz\n",
      "\"BoresightRa\" (spt3g._libcore.G3Timestream) => 312 samples at 152.6 Hz\n",
      "\"RawTimestreams\" (spt3g._libcore.G3TimestreamMap) => Timestreams from 1568 detectors\n",
      "\"Turnaround\" (spt3g._libcore.G3Bool) => True\n",
      "]\n",
      "Frame (Scan) [\n",
      "\"BoresightDec\" (spt3g._libcore.G3Timestream) => 1110 samples at 152.6 Hz\n",
      "\"BoresightRa\" (spt3g._libcore.G3Timestream) => 1110 samples at 152.6 Hz\n",
      "\"RawTimestreams\" (spt3g._libcore.G3TimestreamMap) => Timestreams from 1570 detectors\n",
      "]\n",
      "Frame (Scan) [\n",
      "\"BoresightDec\" (spt3g._libcore.G3Timestream) => 221 samples at 152.6 Hz\n",
      "\"BoresightRa\" (spt3g._libcore.G3Timestream) => 221 samples at 152.6 Hz\n",
      "\"RawTimestreams\" (spt3g._libcore.G3TimestreamMap) => Timestreams from 1568 detectors\n",
      "\"Turnaround\" (spt3g._libcore.G3Bool) => True\n",
      "]\n",
      "Frame (Scan) [\n",
      "\"BoresightDec\" (spt3g._libcore.G3Timestream) => 1109 samples at 152.6 Hz\n",
      "\"BoresightRa\" (spt3g._libcore.G3Timestream) => 1109 samples at 152.6 Hz\n",
      "\"RawTimestreams\" (spt3g._libcore.G3TimestreamMap) => Timestreams from 1570 detectors\n",
      "]\n",
      "Frame (Scan) [\n",
      "\"BoresightDec\" (spt3g._libcore.G3Timestream) => 308 samples at 152.6 Hz\n",
      "\"BoresightRa\" (spt3g._libcore.G3Timestream) => 308 samples at 152.6 Hz\n",
      "\"RawTimestreams\" (spt3g._libcore.G3TimestreamMap) => Timestreams from 1563 detectors\n",
      "\"Turnaround\" (spt3g._libcore.G3Bool) => True\n",
      "]\n",
      "Frame (Scan) [\n",
      "\"BoresightDec\" (spt3g._libcore.G3Timestream) => 1110 samples at 152.6 Hz\n",
      "\"BoresightRa\" (spt3g._libcore.G3Timestream) => 1110 samples at 152.6 Hz\n",
      "\"RawTimestreams\" (spt3g._libcore.G3TimestreamMap) => Timestreams from 1561 detectors\n",
      "]\n",
      "Frame (Scan) [\n",
      "\"BoresightDec\" (spt3g._libcore.G3Timestream) => 221 samples at 152.6 Hz\n",
      "\"BoresightRa\" (spt3g._libcore.G3Timestream) => 221 samples at 152.6 Hz\n",
      "\"RawTimestreams\" (spt3g._libcore.G3TimestreamMap) => Timestreams from 1557 detectors\n",
      "\"Turnaround\" (spt3g._libcore.G3Bool) => True\n",
      "]\n",
      "Frame (Scan) [\n",
      "\"BoresightDec\" (spt3g._libcore.G3Timestream) => 1109 samples at 152.6 Hz\n",
      "\"BoresightRa\" (spt3g._libcore.G3Timestream) => 1109 samples at 152.6 Hz\n",
      "\"RawTimestreams\" (spt3g._libcore.G3TimestreamMap) => Timestreams from 1559 detectors\n",
      "]\n",
      "Frame (Scan) [\n",
      "\"BoresightDec\" (spt3g._libcore.G3Timestream) => 309 samples at 152.6 Hz\n",
      "\"BoresightRa\" (spt3g._libcore.G3Timestream) => 309 samples at 152.6 Hz\n",
      "\"RawTimestreams\" (spt3g._libcore.G3TimestreamMap) => Timestreams from 1553 detectors\n",
      "\"Turnaround\" (spt3g._libcore.G3Bool) => True\n",
      "]\n",
      "Frame (Scan) [\n",
      "\"BoresightDec\" (spt3g._libcore.G3Timestream) => 1109 samples at 152.6 Hz\n",
      "\"BoresightRa\" (spt3g._libcore.G3Timestream) => 1109 samples at 152.6 Hz\n",
      "\"RawTimestreams\" (spt3g._libcore.G3TimestreamMap) => Timestreams from 1547 detectors\n",
      "]\n",
      "Frame (Scan) [\n",
      "\"BoresightDec\" (spt3g._libcore.G3Timestream) => 221 samples at 152.6 Hz\n",
      "\"BoresightRa\" (spt3g._libcore.G3Timestream) => 221 samples at 152.6 Hz\n",
      "\"RawTimestreams\" (spt3g._libcore.G3TimestreamMap) => Timestreams from 1546 detectors\n",
      "\"Turnaround\" (spt3g._libcore.G3Bool) => True\n",
      "]\n",
      "Frame (Scan) [\n",
      "\"BoresightDec\" (spt3g._libcore.G3Timestream) => 1109 samples at 152.6 Hz\n",
      "\"BoresightRa\" (spt3g._libcore.G3Timestream) => 1109 samples at 152.6 Hz\n",
      "\"RawTimestreams\" (spt3g._libcore.G3TimestreamMap) => Timestreams from 1545 detectors\n",
      "]\n",
      "Frame (Scan) [\n",
      "\"BoresightDec\" (spt3g._libcore.G3Timestream) => 310 samples at 152.6 Hz\n",
      "\"BoresightRa\" (spt3g._libcore.G3Timestream) => 310 samples at 152.6 Hz\n",
      "\"RawTimestreams\" (spt3g._libcore.G3TimestreamMap) => Timestreams from 1544 detectors\n",
      "\"Turnaround\" (spt3g._libcore.G3Bool) => True\n",
      "]\n",
      "Frame (Scan) [\n",
      "\"BoresightDec\" (spt3g._libcore.G3Timestream) => 1109 samples at 152.6 Hz\n",
      "\"BoresightRa\" (spt3g._libcore.G3Timestream) => 1109 samples at 152.6 Hz\n",
      "\"RawTimestreams\" (spt3g._libcore.G3TimestreamMap) => Timestreams from 1538 detectors\n",
      "]\n",
      "Frame (Scan) [\n",
      "\"BoresightDec\" (spt3g._libcore.G3Timestream) => 222 samples at 152.6 Hz\n",
      "\"BoresightRa\" (spt3g._libcore.G3Timestream) => 222 samples at 152.6 Hz\n",
      "\"RawTimestreams\" (spt3g._libcore.G3TimestreamMap) => Timestreams from 1539 detectors\n",
      "\"Turnaround\" (spt3g._libcore.G3Bool) => True\n",
      "]\n",
      "Frame (Scan) [\n",
      "\"BoresightDec\" (spt3g._libcore.G3Timestream) => 1109 samples at 152.6 Hz\n",
      "\"BoresightRa\" (spt3g._libcore.G3Timestream) => 1109 samples at 152.6 Hz\n",
      "\"RawTimestreams\" (spt3g._libcore.G3TimestreamMap) => Timestreams from 1542 detectors\n",
      "]\n",
      "Frame (Scan) [\n",
      "\"BoresightDec\" (spt3g._libcore.G3Timestream) => 305 samples at 152.6 Hz\n",
      "\"BoresightRa\" (spt3g._libcore.G3Timestream) => 305 samples at 152.6 Hz\n",
      "\"RawTimestreams\" (spt3g._libcore.G3TimestreamMap) => Timestreams from 1540 detectors\n",
      "\"Turnaround\" (spt3g._libcore.G3Bool) => True\n",
      "]\n",
      "Frame (Scan) [\n",
      "\"BoresightDec\" (spt3g._libcore.G3Timestream) => 1110 samples at 152.6 Hz\n",
      "\"BoresightRa\" (spt3g._libcore.G3Timestream) => 1110 samples at 152.6 Hz\n",
      "\"RawTimestreams\" (spt3g._libcore.G3TimestreamMap) => Timestreams from 1535 detectors\n",
      "]\n",
      "Frame (Scan) [\n",
      "\"BoresightDec\" (spt3g._libcore.G3Timestream) => 221 samples at 152.6 Hz\n",
      "\"BoresightRa\" (spt3g._libcore.G3Timestream) => 221 samples at 152.6 Hz\n",
      "\"RawTimestreams\" (spt3g._libcore.G3TimestreamMap) => Timestreams from 1535 detectors\n",
      "\"Turnaround\" (spt3g._libcore.G3Bool) => True\n",
      "]\n",
      "Frame (Scan) [\n",
      "\"BoresightDec\" (spt3g._libcore.G3Timestream) => 1109 samples at 152.6 Hz\n",
      "\"BoresightRa\" (spt3g._libcore.G3Timestream) => 1109 samples at 152.6 Hz\n",
      "\"RawTimestreams\" (spt3g._libcore.G3TimestreamMap) => Timestreams from 1536 detectors\n",
      "]\n",
      "Frame (Scan) [\n",
      "\"BoresightDec\" (spt3g._libcore.G3Timestream) => 308 samples at 152.6 Hz\n",
      "\"BoresightRa\" (spt3g._libcore.G3Timestream) => 308 samples at 152.6 Hz\n",
      "\"RawTimestreams\" (spt3g._libcore.G3TimestreamMap) => Timestreams from 1533 detectors\n",
      "\"Turnaround\" (spt3g._libcore.G3Bool) => True\n",
      "]\n",
      "Frame (Scan) [\n",
      "\"BoresightDec\" (spt3g._libcore.G3Timestream) => 1110 samples at 152.6 Hz\n",
      "\"BoresightRa\" (spt3g._libcore.G3Timestream) => 1110 samples at 152.6 Hz\n",
      "\"RawTimestreams\" (spt3g._libcore.G3TimestreamMap) => Timestreams from 1527 detectors\n",
      "]\n",
      "Frame (Scan) [\n",
      "\"BoresightDec\" (spt3g._libcore.G3Timestream) => 221 samples at 152.6 Hz\n",
      "\"BoresightRa\" (spt3g._libcore.G3Timestream) => 221 samples at 152.6 Hz\n",
      "\"RawTimestreams\" (spt3g._libcore.G3TimestreamMap) => Timestreams from 1523 detectors\n",
      "\"Turnaround\" (spt3g._libcore.G3Bool) => True\n",
      "]\n",
      "Frame (Scan) [\n",
      "\"BoresightDec\" (spt3g._libcore.G3Timestream) => 1109 samples at 152.6 Hz\n",
      "\"BoresightRa\" (spt3g._libcore.G3Timestream) => 1109 samples at 152.6 Hz\n",
      "\"RawTimestreams\" (spt3g._libcore.G3TimestreamMap) => Timestreams from 1525 detectors\n",
      "]\n",
      "Frame (Scan) [\n",
      "\"BoresightDec\" (spt3g._libcore.G3Timestream) => 310 samples at 152.6 Hz\n",
      "\"BoresightRa\" (spt3g._libcore.G3Timestream) => 310 samples at 152.6 Hz\n",
      "\"RawTimestreams\" (spt3g._libcore.G3TimestreamMap) => Timestreams from 1522 detectors\n",
      "\"Turnaround\" (spt3g._libcore.G3Bool) => True\n",
      "]\n",
      "Frame (Scan) [\n",
      "\"BoresightDec\" (spt3g._libcore.G3Timestream) => 1109 samples at 152.6 Hz\n",
      "\"BoresightRa\" (spt3g._libcore.G3Timestream) => 1109 samples at 152.6 Hz\n",
      "\"RawTimestreams\" (spt3g._libcore.G3TimestreamMap) => Timestreams from 1516 detectors\n",
      "]\n",
      "Frame (Scan) [\n",
      "\"BoresightDec\" (spt3g._libcore.G3Timestream) => 222 samples at 152.6 Hz\n",
      "\"BoresightRa\" (spt3g._libcore.G3Timestream) => 222 samples at 152.6 Hz\n",
      "\"RawTimestreams\" (spt3g._libcore.G3TimestreamMap) => Timestreams from 1518 detectors\n",
      "\"Turnaround\" (spt3g._libcore.G3Bool) => True\n",
      "]\n",
      "Frame (Scan) [\n",
      "\"BoresightDec\" (spt3g._libcore.G3Timestream) => 1109 samples at 152.6 Hz\n",
      "\"BoresightRa\" (spt3g._libcore.G3Timestream) => 1109 samples at 152.6 Hz\n",
      "\"RawTimestreams\" (spt3g._libcore.G3TimestreamMap) => Timestreams from 1516 detectors\n",
      "]\n",
      "Frame (Scan) [\n",
      "\"BoresightDec\" (spt3g._libcore.G3Timestream) => 307 samples at 152.6 Hz\n",
      "\"BoresightRa\" (spt3g._libcore.G3Timestream) => 307 samples at 152.6 Hz\n",
      "\"RawTimestreams\" (spt3g._libcore.G3TimestreamMap) => Timestreams from 1509 detectors\n",
      "\"Turnaround\" (spt3g._libcore.G3Bool) => True\n",
      "]\n",
      "Frame (Scan) [\n",
      "\"BoresightDec\" (spt3g._libcore.G3Timestream) => 1109 samples at 152.6 Hz\n",
      "\"BoresightRa\" (spt3g._libcore.G3Timestream) => 1109 samples at 152.6 Hz\n",
      "\"RawTimestreams\" (spt3g._libcore.G3TimestreamMap) => Timestreams from 1502 detectors\n",
      "]\n",
      "Frame (Scan) [\n",
      "\"BoresightDec\" (spt3g._libcore.G3Timestream) => 221 samples at 152.6 Hz\n",
      "\"BoresightRa\" (spt3g._libcore.G3Timestream) => 221 samples at 152.6 Hz\n",
      "\"RawTimestreams\" (spt3g._libcore.G3TimestreamMap) => Timestreams from 1502 detectors\n",
      "\"Turnaround\" (spt3g._libcore.G3Bool) => True\n",
      "]\n",
      "Frame (Scan) [\n",
      "\"BoresightDec\" (spt3g._libcore.G3Timestream) => 1109 samples at 152.6 Hz\n",
      "\"BoresightRa\" (spt3g._libcore.G3Timestream) => 1109 samples at 152.6 Hz\n",
      "\"RawTimestreams\" (spt3g._libcore.G3TimestreamMap) => Timestreams from 1502 detectors\n",
      "]\n",
      "Frame (Scan) [\n",
      "\"BoresightDec\" (spt3g._libcore.G3Timestream) => 182 samples at 152.6 Hz\n",
      "\"BoresightRa\" (spt3g._libcore.G3Timestream) => 182 samples at 152.6 Hz\n",
      "\"RawTimestreams\" (spt3g._libcore.G3TimestreamMap) => Timestreams from 1501 detectors\n",
      "\"Turnaround\" (spt3g._libcore.G3Bool) => True\n",
      "]\n"
     ]
    }
   ],
   "execution_count": 60
  },
  {
   "cell_type": "markdown",
   "id": "b0446bf2-a0a8-4808-8d63-5731d3146fcb",
   "metadata": {},
   "source": [
    "You'll notice that the input data file contains many `Scan` frames, which themselves contain telescope boresight pointing timestreams, as well as the raw detector timestreams, all sampled at the same data rate.  The SPT scans the sky in azimuth, stepping in elevation between back-and-forth sweeps.  The telescope coordinates have been converted to Equatorial sky coordinates.  Let's see if we can plot up the scan pattern.  We can define a function that only works on scan frames, and insert it into our pipeline:"
   ]
  },
  {
   "cell_type": "code",
   "id": "3d6a2df8-76cd-4804-96c0-63f9c2f9eb37",
   "metadata": {
    "ExecuteTime": {
     "end_time": "2025-03-18T20:11:17.043079Z",
     "start_time": "2025-03-18T20:11:17.038968Z"
    }
   },
   "source": [
    "def PlotRaDec(frame):\n",
    "    # skip any frame that doesn't contain the right key\n",
    "    if \"BoresightRa\" not in frame:\n",
    "        return\n",
    "\n",
    "    # plot coordinates in real units\n",
    "    plt.plot(frame[\"BoresightRa\"] / core.G3Units.deg, frame[\"BoresightDec\"] / core.G3Units.deg)"
   ],
   "outputs": [],
   "execution_count": 61
  },
  {
   "cell_type": "code",
   "id": "cf3ffdd4-69d1-45c1-84b1-d430a6a58435",
   "metadata": {
    "ExecuteTime": {
     "end_time": "2025-03-18T20:15:57.330105Z",
     "start_time": "2025-03-18T20:15:49.816229Z"
    }
   },
   "source": [
    "pipe = core.G3Pipeline()\n",
    "pipe.Add(core.G3Reader, filename=\"spt3g_tutorial_data/timestreams.g3\")\n",
    "pipe.Add(PlotRaDec)\n",
    "pipe.Run()\n",
    "\n",
    "plt.xlabel(\"Right Ascension [deg]\")\n",
    "plt.ylabel(\"Declination [deg]\");"
   ],
   "outputs": [
    {
     "data": {
      "text/plain": [
       "Text(0, 0.5, 'Declination [deg]')"
      ]
     },
     "execution_count": 63,
     "metadata": {},
     "output_type": "execute_result"
    },
    {
     "data": {
      "text/plain": [
       "<Figure size 640x480 with 1 Axes>"
      ],
      "image/png": "[encoded data removed]"
     },
     "metadata": {},
     "output_type": "display_data"
    }
   ],
   "execution_count": 63
  },
  {
   "cell_type": "markdown",
   "id": "b0624ad4-550e-4e52-b226-e915c27516e1",
   "metadata": {},
   "source": [
    "You'll notice that the timestreams are split into sections of constant declination, and sections where the telescope is turning around and/or stepping in declination.  We can add a module to exclude these so-called \"turnaround\" frames, so that we are only keeping the data where the telescope is moving smoothly in one direction:"
   ]
  },
  {
   "cell_type": "code",
   "id": "2bd2a923-75a4-4704-9123-2096a5cb4235",
   "metadata": {
    "ExecuteTime": {
     "end_time": "2025-03-18T20:17:30.952479Z",
     "start_time": "2025-03-18T20:17:23.767909Z"
    }
   },
   "source": [
    "pipe = core.G3Pipeline()\n",
    "pipe.Add(core.G3Reader, filename=\"spt3g_tutorial_data/timestreams.g3\")\n",
    "pipe.Add(lambda fr: fr.get(\"Turnaround\", False) == False)\n",
    "pipe.Add(PlotRaDec)\n",
    "pipe.Run()"
   ],
   "outputs": [
    {
     "data": {
      "text/plain": [
       "<Figure size 640x480 with 1 Axes>"
      ],
      "image/png": "[encoded data removed]"
     },
     "metadata": {},
     "output_type": "display_data"
    }
   ],
   "execution_count": 66
  },
  {
   "cell_type": "markdown",
   "id": "973ce775-6b99-4296-b799-56e36c1555ea",
   "metadata": {},
   "source": [
    "We can also manipulate the data in the frames.  Once the frames are updated, the next module in the pipeline will receive the frame with the updated data, since this manipulation is effectively happening \"in-place\".  Let's define a function to apply the calibration constants we loaded above to the input `RawTimestreams`.  This will convert the raw detector timestreams from ADC units to units of CMB temperature.  Note that the modified timestreams are stored to a new key in the frame, because the existing key cannot be overwritten."
   ]
  },
  {
   "cell_type": "code",
   "id": "3d009f17-19d3-41f2-91cd-cb21206a489e",
   "metadata": {
    "ExecuteTime": {
     "end_time": "2025-03-18T20:20:38.734317Z",
     "start_time": "2025-03-18T20:20:38.729842Z"
    }
   },
   "source": [
    "def Calibrate(frame):\n",
    "    # skip frames that don't contain the input key\n",
    "    if \"RawTimestreams\" not in frame:\n",
    "        return\n",
    "\n",
    "    # get the input timestream data\n",
    "    ts_in = frame[\"RawTimestreams\"]\n",
    "    \n",
    "    # create a new output timestream object\n",
    "    ts_out = core.G3TimestreamMap()\n",
    "\n",
    "    # loop over timestreams and multiply by the calibration constant for each detector\n",
    "    for det, ts in ts_in.items():\n",
    "        ts2 = ts.astype(float) * cal[det]\n",
    "        ts2.units = cal_units  # update units\n",
    "        ts_out[det] = ts2\n",
    "\n",
    "    # store the calibrated timestreams to the output key in the frame\n",
    "    frame[\"CalTimestreams\"] = ts_out"
   ],
   "outputs": [],
   "execution_count": 67
  },
  {
   "cell_type": "markdown",
   "id": "b9b816eb-6359-43a2-8587-fa2ef44b96b9",
   "metadata": {},
   "source": [
    "An alternative way of manipulating a G3TimestreamMap object is to treat it as a 2D array of shape `(num_dets, num_samples)`.  This may be more efficient when you're doing more complicated operations that can be vectorized.  Both of these `Calibrate` modules result in the same output:"
   ]
  },
  {
   "cell_type": "code",
   "id": "5792bb11-f00d-4409-80b1-17a3af9487ad",
   "metadata": {
    "ExecuteTime": {
     "end_time": "2025-03-18T20:29:14.531880Z",
     "start_time": "2025-03-18T20:29:14.525993Z"
    }
   },
   "source": [
    "def Calibrate(frame):\n",
    "    # skip frames that don't contain the input key\n",
    "    if \"RawTimestreams\" not in frame:\n",
    "        return\n",
    "\n",
    "    # get the input timestream data\n",
    "    ts_in = frame[\"RawTimestreams\"]\n",
    "\n",
    "    # convert to 2D numpy array of shape (ndet, nsamp)\n",
    "    tsarr = np.array(ts_in)  # copy\n",
    "\n",
    "    # list of detectors\n",
    "    dets = ts_in.keys()\n",
    "    \n",
    "    # calibration array for all detectors present in ts_in\n",
    "    calarr = np.asarray([cal[det] for det in dets])\n",
    "    \n",
    "    # in-place math with broadcasting\n",
    "    tsarr *= calarr[:, None]\n",
    "\n",
    "    # create output object with correct timestamps and units\n",
    "    ts_out = core.G3TimestreamMap(dets, tsarr, ts_in.start, ts_in.stop, cal_units)\n",
    "\n",
    "    # store the calibrated timestreams to the output key in the frame\n",
    "    frame[\"CalTimestreams\"] = ts_out"
   ],
   "outputs": [],
   "execution_count": 68
  },
  {
   "cell_type": "markdown",
   "id": "1f610d8f-733f-4e97-8c9e-6ab8a3ca2329",
   "metadata": {},
   "source": [
    "## Making a sky map\n",
    "\n",
    "Let's take the data for a single detector and create a sky map from it.  First, we need to define the pixel grid onto which the timestream data will be binned.  To make the math relatively easy, let's stick with Cartesian coordinates for the time being:"
   ]
  },
  {
   "cell_type": "code",
   "id": "2357efa6-d1c7-4d4c-94d9-0d1404403cc0",
   "metadata": {
    "ExecuteTime": {
     "end_time": "2025-03-18T20:32:18.740552Z",
     "start_time": "2025-03-18T20:32:18.735469Z"
    }
   },
   "source": [
    "# center of the sky map\n",
    "ra0 = 8.0 * U.rahour + 59.0 * U.raminute + 4.8 * U.rasecond\n",
    "dec0 = -(47.0 * U.degrees + 30.0 * U.arcmin + 36.0 * U.arcsec)\n",
    "\n",
    "# map dimensions\n",
    "xlen = 0.5 * U.deg\n",
    "ylen = 0.5 * U.deg\n",
    "\n",
    "# pixel resolution\n",
    "res = 0.5 * U.arcmin\n",
    "\n",
    "# number of bins along each axis\n",
    "nx = int(xlen / res)\n",
    "ny = int(ylen / res)\n",
    "\n",
    "# bin edges\n",
    "ra_edges = np.linspace(-xlen / 2, xlen / 2, nx + 1) + ra0\n",
    "dec_edges = np.linspace(-ylen / 2, ylen / 2, ny + 1) + dec0"
   ],
   "outputs": [],
   "execution_count": 69
  },
  {
   "cell_type": "markdown",
   "id": "188fc43f-2e56-46af-952f-b71343097736",
   "metadata": {},
   "source": [
    "And now we need to define a module for binning the timestream data into this sky map.  We're going to iteratively update the sky map with each input frame that we read from file, so the binner cannot be a simple function.  We define a class, in which we store all of the input arguments and the output data arrays as attributes of the class.  Its `__call__` method is then used in the pipeline to update the data arrays.\n",
    "\n",
    "Notice that we are including pointing offsets for each detector.  The pointing offsets are defined relative to the telescope boresight (i.e. the effective center of the focal plane), so must be converted to sky offsets to be applied correctly."
   ]
  },
  {
   "cell_type": "code",
   "id": "85d6edeb-2eda-428a-acbb-f2351654e339",
   "metadata": {
    "ExecuteTime": {
     "end_time": "2025-03-18T20:36:40.745165Z",
     "start_time": "2025-03-18T20:36:40.739114Z"
    }
   },
   "source": [
    "class SingleMapBinner:\n",
    "    def __init__(self, det, timestreams=\"CalTimestreams\"):\n",
    "        self.det = det\n",
    "        self.timestreams = timestreams\n",
    "\n",
    "        # array for storing the binned timestream data\n",
    "        self.data = np.zeros((ny, nx), dtype=float)\n",
    "\n",
    "        # array for storing the number of times each pixel is \"hit\" in the timestreams\n",
    "        self.hits = np.zeros((ny, nx), dtype=float)\n",
    "    \n",
    "    def __call__(self, frame):\n",
    "        if self.timestreams not in frame:\n",
    "            return\n",
    "\n",
    "        if self.det not in frame[self.timestreams]:\n",
    "            return\n",
    "\n",
    "        ts = frame[self.timestreams][self.det]\n",
    "\n",
    "        # calculate offset pointing\n",
    "        dy = yoff[self.det]\n",
    "        y = np.asarray(frame[\"BoresightDec\"]) - dy\n",
    "        dx = xoff[self.det] / np.cos(y / U.rad)\n",
    "        x = np.asarray(frame[\"BoresightRa\"]) + dx\n",
    "\n",
    "        # update data and hits, in-place\n",
    "        self.data += np.histogram2d(y, x, bins=[dec_edges, ra_edges], weights=ts)[0]\n",
    "        self.hits += np.histogram2d(y, x, bins=[dec_edges, ra_edges])[0]"
   ],
   "outputs": [],
   "execution_count": 70
  },
  {
   "cell_type": "markdown",
   "id": "06f4d4c8-2c2c-4cbf-a92d-1f11ea088870",
   "metadata": {},
   "source": [
    "To use this module object, we first instantiate it, then add the instance to the pipeline.  This allows access to the updated `data` and `hits` attributes when the pipeline is finished running."
   ]
  },
  {
   "cell_type": "code",
   "id": "e19d15f2-0316-4325-816e-ff90292cfc7a",
   "metadata": {
    "ExecuteTime": {
     "end_time": "2025-03-18T20:38:32.665185Z",
     "start_time": "2025-03-18T20:38:24.414190Z"
    }
   },
   "source": [
    "# instantiate binner\n",
    "binner = SingleMapBinner(det=\"2019.00e\")\n",
    "\n",
    "# create the pipeline\n",
    "pipe = core.G3Pipeline()\n",
    "pipe.Add(core.G3Reader, filename=\"spt3g_tutorial_data/timestreams.g3\")\n",
    "pipe.Add(lambda fr: fr.get(\"Turnaround\", False) == False)\n",
    "pipe.Add(Calibrate)\n",
    "pipe.Add(binner)\n",
    "\n",
    "# run the pipeline with some simple time/memory useage profiling\n",
    "pipe.Run(profile=True)\n",
    "\n",
    "m = binner.data / binner.hits / U.mK\n",
    "plt.imshow(m)\n",
    "plt.colorbar(label=\"Temperature [mK]\");"
   ],
   "outputs": [
    {
     "name": "stderr",
     "output_type": "stream",
     "text": [
      "/tmp/ipykernel_19524/99373056.py:14: RuntimeWarning: invalid value encountered in divide\n",
      "  m = binner.data / binner.hits / U.mK\n"
     ]
    },
    {
     "data": {
      "text/plain": [
       "<Figure size 640x480 with 2 Axes>"
      ],
      "image/png": "[encoded data removed]"
     },
     "metadata": {},
     "output_type": "display_data"
    }
   ],
   "execution_count": 73
  },
  {
   "cell_type": "markdown",
   "id": "a0c48c9c-c39f-4e51-8f73-45d98a8bb88f",
   "metadata": {},
   "source": [
    "Notice that this map is not very well populated.  It seems that our one detector is barely in view of the field we're looking at."
   ]
  },
  {
   "cell_type": "markdown",
   "id": "1a8ce3e3-10f7-4b95-9882-b0490aee01b7",
   "metadata": {},
   "source": [
    "#### <span style=\"color:red\">EXERCISE:</span>\n",
    "Modify the map binner above to loop over all detectors.  Call it `MapBinner`, and run a new pipeline to plot up the resulting total sky map."
   ]
  },
  {
   "cell_type": "code",
   "id": "e2b74dbc-c13b-4134-88fa-6c0c4732cfcf",
   "metadata": {},
   "source": [
    "# your code and plots go here"
   ],
   "outputs": [],
   "execution_count": null
  },
  {
   "cell_type": "markdown",
   "id": "e49bc75b-4bb6-4459-b6ab-b3f51a620af7",
   "metadata": {},
   "source": [
    "### More complex mapmaking\n",
    "\n",
    "This map binning scheme is quite simple and relatively inefficient.  The [spt3g.maps](https://cmb-s4.github.io/spt3g_software/moddoc_maps.html) package includes definitions of sky map objects that are able to handle different sky projections and pixelization schemes, as well as tools for binning timestreams to sky maps (and vice versa) in an efficient way.\n",
    "\n",
    "This tutorial also does not touch on detector polarization or polarized mapmaking; for more details on how this works, see, for example [this paper](https://arxiv.org/abs/astro-ph/0606606).\n",
    "\n",
    "For more detail on the considerations necessary for constructing angular power spectra from CMB maps computed with this filter-and-bin mapmaking scheme, see [this pedagogical paper](https://arxiv.org/pdf/astro-ph/0105302)."
   ]
  },
  {
   "cell_type": "markdown",
   "id": "7c9ad8c3-716a-472f-9ef9-e1df5cf32dd6",
   "metadata": {},
   "source": [
    "## Timestream Processing\n",
    "\n",
    "We now have a calibrated map, but it has some strange striping and large scale drifts in it, when we would have expected to see some kind of compact blob in the image.  This is because the detector timestreams drift on long timescales due to various forms of contamination: emission from our own atmosphere, thermal drifts in the internal cryogenic environment of the camera, etc.  To remove these drifts, we need to filter the timestreams in such a way as to remove these long timescale drifts."
   ]
  },
  {
   "cell_type": "markdown",
   "id": "ad5b8c57-57f9-4ace-8f4d-d104f7ff3e80",
   "metadata": {},
   "source": [
    "#### <span style=\"color:red\">EXERCISE:</span>\n",
    "Create a new pipeline module called `MeanFilter` that subtracts the mean value of each detector timestream for each scan, and stores the resulting timestreams to a new `\"FilteredTimestreams\"` key in the scan frame.  Write a new pipeline to bin these filtered timestreams into a map, using your multi-detector `MapBinner` you created above.  What does the sky map look like with this coarse filter applied?  Zoom in on the color scale (e.g. by setting the `vmax` argument for `imshow`).  What features do you see in the map?"
   ]
  },
  {
   "cell_type": "code",
   "id": "63050f17-3800-484e-9750-d20e3dcc6584",
   "metadata": {},
   "source": [
    "# your code and plots go here"
   ],
   "outputs": [],
   "execution_count": null
  },
  {
   "cell_type": "markdown",
   "id": "8dcc9037-8206-4813-bb6c-3d4c28298ea0",
   "metadata": {},
   "source": [
    "This particular image has a large and bright astrophysical source in the middle.  High-resolution telescopes like ACT and SPT are able to resolve such sources all over the sky.  However, notice that simple filtering without accounting for the existence of the source in the data results in pronounced \"wings\" along the telescope's scan direction that extend far beyond the width of the source itself.  To reduce the presence of these wings, we can mask out the source prior to applying a filter."
   ]
  },
  {
   "cell_type": "markdown",
   "id": "5928b9d0-33e8-445f-a6a5-221f990489ec",
   "metadata": {},
   "source": [
    "#### <span style=\"color:red\">EXERCISE:</span>\n",
    "\n",
    "Modify your `MeanFilter` module to compute the timestream mean using only the data samples that fall outside of an 8 arcmin radius around the source.  Call this new module `MaskedMeanFilter`.  Don't forget to account for the individual detector offsets in constructing your mask."
   ]
  },
  {
   "cell_type": "code",
   "id": "8a7b37d6-b32b-489c-ba90-02fa688c421d",
   "metadata": {},
   "source": [
    "# your code and plots go here"
   ],
   "outputs": [],
   "execution_count": null
  },
  {
   "cell_type": "markdown",
   "id": "0dd1f5fb-33fc-4f6d-b70b-29c16232a170",
   "metadata": {},
   "source": [
    "Detector data can be filtered and processed in many more complicated ways.  For example, we could subtract a higher-order polynomial to filter out some smaller scale modes from the data.  We could also use a Fourier filter to do more complex filtering, such as notching out particular lines or limiting the frequency bandwidth of the timestreams.  A complete low-level analysis pipeline incorporates a variety of filters and data cuts in order to reconstruct the underlying sky with high signal-to-noise."
   ]
  }
 ],
 "metadata": {
  "kernelspec": {
   "display_name": "Python 3 (ipykernel)",
   "language": "python",
   "name": "python3"
  },
  "language_info": {
   "codemirror_mode": {
    "name": "ipython",
    "version": 3
   },
   "file_extension": ".py",
   "mimetype": "text/x-python",
   "name": "python",
   "nbconvert_exporter": "python",
   "pygments_lexer": "ipython3",
   "version": "3.12.3"
  }
 },
 "nbformat": 4,
 "nbformat_minor": 5
}
