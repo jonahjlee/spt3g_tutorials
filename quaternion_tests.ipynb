{
 "cells": [
  {
   "metadata": {},
   "cell_type": "markdown",
   "source": [
    "# Quaternion Tests\n",
    "\n",
    "The SPT-3G framework uses quaternions to encode pointing directions (e.g. boresight RA/DEC) as well as detector focal plane offsets. However, the methods used to map between RA/DEC <--> quaternions or lat/lon <--> quaterions are not always clear."
   ],
   "id": "7a6ff5eba89f1782"
  },
  {
   "metadata": {},
   "cell_type": "markdown",
   "source": [
    "SPT-3G's ``spt3g.core.maps`` package contains some methods relating to map pointing ([see documentation](https://cmb-s4.github.io/spt3g_software/moddoc_maps.html#map-pointing)):\n",
    "\n",
    "    \"This package also provides functions and pipline modules for creating and manipulating the quaternions necessary for mapmaking. In general, there are two forms of quaternions that are used throughout the code: pointing quaternions and rotation quaternions.\"\n",
    "\n"
   ],
   "id": "e41bf2d2a6ebcfe7"
  },
  {
   "metadata": {},
   "cell_type": "markdown",
   "source": [
    "The Simons Observatory's ``so3g.proj`` module ([see documentation](https://so3g.readthedocs.io/en/latest/proj.html)) contains methods which map between quaternions and multiple coordinate systems. Namely:\n",
    "- ``so3g.proj.quat.rotation_iso(theta, phi, psi=None)``\n",
    "- ``so3g.proj.quat.rotation_lonlat(lon, lat, psi=0.0)``\n",
    "- ``so3g.proj.quat.rotation_xieta(xi, eta, gamma=0)``\n",
    "\n",
    "The inverse methods also exist:\n",
    "- ``so3g.proj.quat.decompose_iso(q)``\n",
    "- ``so3g.proj.quat.decompose_lonlat(q)``\n",
    "- ``so3g.proj.quat.decompose_xieta(q)``"
   ],
   "id": "2c1832cf6d710628"
  },
  {
   "cell_type": "code",
   "id": "initial_id",
   "metadata": {
    "collapsed": true,
    "ExecuteTime": {
     "end_time": "2025-03-28T18:34:30.570858Z",
     "start_time": "2025-03-28T18:34:29.898330Z"
    }
   },
   "source": [
    "from spt3g import core, maps\n",
    "from spt3g.core import G3Units as U\n",
    "import numpy as np\n",
    "import matplotlib.pyplot as plt"
   ],
   "outputs": [],
   "execution_count": 2
  },
  {
   "metadata": {
    "ExecuteTime": {
     "end_time": "2025-03-28T18:34:33.195202Z",
     "start_time": "2025-03-28T18:34:33.192144Z"
    }
   },
   "cell_type": "code",
   "source": "from so3g import proj",
   "id": "1785e0e66acfd8d8",
   "outputs": [],
   "execution_count": 3
  },
  {
   "metadata": {},
   "cell_type": "markdown",
   "source": [
    "## 1. SPT-3G Methods\n",
    "\n",
    "As described in the docs linked above, quaternions can represent either:\n",
    "\n",
    "1. A pointing quaternion. In this case, the information is encoded in the vector component of the quaternion, i.e., the second, third and fourth components. I believe a pointing quaternion would typically have magnitude $||q||=1$ and zero real component. However, we will show below that the method ``maps.quat_to_ang`` does not enforce this.\n",
    "\n",
    "2. A rotation quaternion. A rotation quaternion must be a unit quaternion (i.e., $||q||=1$ ). According to the ``spt3g.maps`` [docs](https://cmb-s4.github.io/spt3g_software/moddoc_maps.html#rotation-quaternions), A rotation quaternion $q_r$ be applied to a pointing quaternion $q_p$ by the formula:  $$q_{p,rot} = q_r * q_p / q_r\\,.$$ A rotation quaternion can be interpreted as a rotation by an angle $\\theta$ about a direction $\\hat{\\textbf{u}}$ where $\\hat{\\textbf{u}}=u_x\\hat{\\textbf{i}} + u_y\\hat{\\textbf{j}} + u_z\\hat{\\textbf{k}}$. In this case, the quaternion will be given by: $$q=\\cos(\\frac{\\theta}{2}) + \\sin(\\frac{\\theta}{2}) \\hat{u} = \\cos(\\frac{\\theta}{2}) + \\sin(\\frac{\\theta}{2}) (u_x\\hat{\\textbf{i}} + u_y\\hat{\\textbf{j}} + u_z\\hat{\\textbf{k}})\\,.$$"
   ],
   "id": "aeae6f8d3abbe32a"
  },
  {
   "metadata": {},
   "cell_type": "markdown",
   "source": [
    "### 1.1 ``ang_to_quat``\n",
    "\n",
    "How do angles map to (pointing quaternions)?"
   ],
   "id": "8287f352f09ade31"
  },
  {
   "metadata": {
    "ExecuteTime": {
     "end_time": "2025-03-28T18:54:00.759271Z",
     "start_time": "2025-03-28T18:54:00.754947Z"
    }
   },
   "cell_type": "code",
   "source": [
    "# Test 1 - How does spt3g.maps map between RA (alpha) / DEC (delta) and quaternions?\n",
    "maps.ang_to_quat(0, 0)"
   ],
   "id": "7bdb2cbf18130571",
   "outputs": [
    {
     "data": {
      "text/plain": [
       "spt3g.core.quat(0,1,0,0)"
      ]
     },
     "execution_count": 18,
     "metadata": {},
     "output_type": "execute_result"
    }
   ],
   "execution_count": 18
  },
  {
   "metadata": {},
   "cell_type": "markdown",
   "source": [
    "We see from the above test that for spt3g pointing quaternions, RA/DEC = 0deg/0deg is mapped to the vector (1, 0, 0). This means that the positive x direction (AKA,  $\\hat{\\textbf{i}}$) points in the direction where $\\alpha=0$ and $\\delta=0$.\n",
    "\n",
    "In the next cells, we can confirm that $\\hat{\\textbf{j}}$ and $\\hat{\\textbf{k}}$ correspond to the directions shown in the sketch below."
   ],
   "id": "dead52a33edb510c"
  },
  {
   "metadata": {},
   "cell_type": "markdown",
   "source": "![test](ra_dec_sketch.jpg)",
   "id": "538992fdd0ba487a"
  },
  {
   "metadata": {
    "ExecuteTime": {
     "end_time": "2025-03-28T18:52:12.278299Z",
     "start_time": "2025-03-28T18:52:12.273874Z"
    }
   },
   "cell_type": "code",
   "source": [
    "# Test 2 - Confirming the y (j_hat) and direction for spt3g pointing quaternions\n",
    "y_pointing = maps.ang_to_quat(np.pi/2, 0)\n",
    "assert np.allclose([y_pointing.b, y_pointing.c, y_pointing.d], np.array([0, 1, 0]))\n",
    "print(y_pointing)"
   ],
   "id": "53d0768ecf70cfd9",
   "outputs": [
    {
     "name": "stdout",
     "output_type": "stream",
     "text": [
      "(0,6.12323e-17,1,0)\n"
     ]
    }
   ],
   "execution_count": 16
  },
  {
   "metadata": {
    "ExecuteTime": {
     "end_time": "2025-03-28T18:52:10.428027Z",
     "start_time": "2025-03-28T18:52:10.423425Z"
    }
   },
   "cell_type": "code",
   "source": [
    "# Test 3 - Confirming the z (k_hat) and direction for spt3g pointing quaternions\n",
    "z_pointing = maps.ang_to_quat(0, np.pi/2)\n",
    "assert np.allclose([z_pointing.b, z_pointing.c, z_pointing.d], np.array([0, 0, 1]))\n",
    "print(z_pointing)"
   ],
   "id": "f6e81973c80e0d4d",
   "outputs": [
    {
     "name": "stdout",
     "output_type": "stream",
     "text": [
      "(0,6.12323e-17,0,1)\n"
     ]
    }
   ],
   "execution_count": 15
  },
  {
   "metadata": {},
   "cell_type": "markdown",
   "source": [
    "### 1.2 ``quat_to_ang``\n",
    "\n",
    "How do pointing quaternions map to RA/DEC angles?"
   ],
   "id": "daf362a1a15ad025"
  },
  {
   "metadata": {
    "ExecuteTime": {
     "end_time": "2025-03-28T18:57:36.007505Z",
     "start_time": "2025-03-28T18:57:36.003124Z"
    }
   },
   "cell_type": "code",
   "source": [
    "# Test 4 - inverting the known x, y and z pointing quaternions from section 1.1\n",
    "ra, dec = maps.quat_to_ang(core.quat(0, 1, 0, 0))\n",
    "print(f\"X direction -- RA (deg): {ra * 180 / np.pi}, DEC (deg): {dec * 180 / np.pi}\")\n",
    "\n",
    "ra, dec = maps.quat_to_ang(core.quat(0, 0, 1, 0))\n",
    "print(f\"Y direction -- RA (deg): {ra * 180 / np.pi}, DEC (deg): {dec * 180 / np.pi}\")\n",
    "\n",
    "ra, dec = maps.quat_to_ang(core.quat(0, 0, 0, 1))\n",
    "print(f\"Z direction -- RA (deg): {ra * 180 / np.pi}, DEC (deg): {dec * 180 / np.pi}\")"
   ],
   "id": "9a59ae5aa67f6618",
   "outputs": [
    {
     "name": "stdout",
     "output_type": "stream",
     "text": [
      "X direction -- RA (deg): 0.0, DEC (deg): 0.0\n",
      "Y direction -- RA (deg): 90.0, DEC (deg): 0.0\n",
      "Z direction -- RA (deg): 0.0, DEC (deg): 90.0\n"
     ]
    }
   ],
   "execution_count": 20
  },
  {
   "metadata": {
    "ExecuteTime": {
     "end_time": "2025-03-28T19:01:35.250529Z",
     "start_time": "2025-03-28T19:01:35.246537Z"
    }
   },
   "cell_type": "code",
   "source": [
    "# Test 5 - pointing quaternions with non-zero real components\n",
    "for realval in (0., 1., 100., 1000., -10., 0.333, np.pi):\n",
    "    ra, dec = maps.quat_to_ang(core.quat(realval, 1, 0, 0))\n",
    "    print(f\"Real component: {realval:>6.5}, RA (deg): {ra * 180 / np.pi}, DEC (deg): {dec * 180 / np.pi}\")\n",
    "# conclusion: quat_to_ang ignores the real component of quaternions,\n",
    "# as they are expected to be pointing quaternions where the information is only in the vector component"
   ],
   "id": "8fc4f9d303b26144",
   "outputs": [
    {
     "name": "stdout",
     "output_type": "stream",
     "text": [
      "Real component:    0.0, RA (deg): 0.0, DEC (deg): 0.0\n",
      "Real component:    1.0, RA (deg): 0.0, DEC (deg): 0.0\n",
      "Real component:  100.0, RA (deg): 0.0, DEC (deg): 0.0\n",
      "Real component: 1000.0, RA (deg): 0.0, DEC (deg): 0.0\n",
      "Real component:  -10.0, RA (deg): 0.0, DEC (deg): 0.0\n",
      "Real component:  0.333, RA (deg): 0.0, DEC (deg): 0.0\n",
      "Real component: 3.1416, RA (deg): 0.0, DEC (deg): 0.0\n"
     ]
    }
   ],
   "execution_count": 44
  },
  {
   "metadata": {
    "ExecuteTime": {
     "end_time": "2025-03-28T19:08:07.766017Z",
     "start_time": "2025-03-28T19:08:07.761020Z"
    }
   },
   "cell_type": "code",
   "source": [
    "# Test 6 - pointing quaternions with non-unit norms\n",
    "def norm(q): return (q.a**2 + q.b**2 + q.c**2 + q.d**2)**0.5\n",
    "test_quats = [\n",
    "    (0, np.sqrt(2)/2, np.sqrt(2)/2, 0),  # unit norm\n",
    "    (0, 1, 1, 0),                        # non-unit norm\n",
    "    (0, 1000, 1000, 0),                  # non-unit norm\n",
    "    (0, -np.sqrt(2)/2, -np.sqrt(2)/2, 0) # unit norm, opposite direction\n",
    "]\n",
    "for quat_args in test_quats:\n",
    "    q = core.quat(*quat_args)\n",
    "    ra, dec = maps.quat_to_ang(q)\n",
    "    print(f\"{q=} -- RA (deg): {ra * 180 / np.pi}, DEC (deg): {dec * 180 / np.pi}\")\n",
    "# conclusion: quat_to_ang treats pointing quaternions as if their vector component were normalized to 1"
   ],
   "id": "aa9cd6ce592941e",
   "outputs": [
    {
     "name": "stdout",
     "output_type": "stream",
     "text": [
      "q=spt3g.core.quat(0,0.707107,0.707107,0) -- RA (deg): 45.0, DEC (deg): 0.0\n",
      "q=spt3g.core.quat(0,1,1,0) -- RA (deg): 45.0, DEC (deg): 0.0\n",
      "q=spt3g.core.quat(0,1000,1000,0) -- RA (deg): 45.0, DEC (deg): 0.0\n",
      "q=spt3g.core.quat(0,-0.707107,-0.707107,0) -- RA (deg): -135.0, DEC (deg): 0.0\n"
     ]
    }
   ],
   "execution_count": 49
  },
  {
   "metadata": {},
   "cell_type": "markdown",
   "source": "## Appendix: Misc Experiments / Testing",
   "id": "d1b22cab3d34a7ec"
  },
  {
   "metadata": {
    "ExecuteTime": {
     "end_time": "2025-03-28T17:04:49.419449Z",
     "start_time": "2025-03-28T17:04:49.414787Z"
    }
   },
   "cell_type": "code",
   "source": [
    "def norm(q):\n",
    "    return (q.a**2 + q.b**2 + q.c**2 + q.d**2)**0.5\n",
    "\n",
    "q_to_gal = maps.get_fk5_j2000_to_gal_quat()\n",
    "\n"
   ],
   "id": "49e9009eb6b4cd05",
   "outputs": [],
   "execution_count": 6
  },
  {
   "metadata": {
    "ExecuteTime": {
     "end_time": "2025-03-28T17:14:06.797412Z",
     "start_time": "2025-03-28T17:14:06.792071Z"
    }
   },
   "cell_type": "code",
   "source": "maps.get_origin_rotator(0, np.pi / 4)",
   "id": "cee60b75b29ab35e",
   "outputs": [
    {
     "data": {
      "text/plain": [
       "spt3g.core.quat(0.92388,0,-0.382683,0)"
      ]
     },
     "execution_count": 10,
     "metadata": {},
     "output_type": "execute_result"
    }
   ],
   "execution_count": 10
  },
  {
   "metadata": {
    "ExecuteTime": {
     "end_time": "2025-03-28T17:20:47.166476Z",
     "start_time": "2025-03-28T17:20:47.161248Z"
    }
   },
   "cell_type": "code",
   "source": [
    "angle = maps.get_rot_ang(core.quat(0, 1, 0, 0), core.quat(0.92388,0,-0.382683,0))\n",
    "angle * 180 / np.pi"
   ],
   "id": "a1557554fff696ce",
   "outputs": [
    {
     "data": {
      "text/plain": [
       "1.2074182697257333e-06"
      ]
     },
     "execution_count": 27,
     "metadata": {},
     "output_type": "execute_result"
    }
   ],
   "execution_count": 27
  },
  {
   "metadata": {},
   "cell_type": "code",
   "outputs": [],
   "execution_count": null,
   "source": "",
   "id": "1ef354034cccc00"
  },
  {
   "metadata": {},
   "cell_type": "markdown",
   "source": [
    "    spt3g.maps.offsets_to_quat\n",
    "\n",
    "    offsets_to_quat( (float)x, (float)y) -> Quat :\n",
    "\n",
    "    Returns the vector quaternion (0,1,0,0) rotated by the given x and y offsets. Equivalent to t * quat(0,1,0,0) / t, where t = get_origin_rotator(x, -y)\n",
    "\n",
    "Why negative y?\n"
   ],
   "id": "cbfa7fa07ed5ce59"
  },
  {
   "metadata": {
    "ExecuteTime": {
     "end_time": "2025-03-28T17:27:36.129386Z",
     "start_time": "2025-03-28T17:27:36.123679Z"
    }
   },
   "cell_type": "code",
   "source": "maps.quathelpers.quat_to_ang(core.quat(0, 1, 1, 0))",
   "id": "e6b6ce16bf8b8e92",
   "outputs": [
    {
     "data": {
      "text/plain": [
       "(np.float64(0.7853981633974483), np.float64(0.0))"
      ]
     },
     "execution_count": 47,
     "metadata": {},
     "output_type": "execute_result"
    }
   ],
   "execution_count": 47
  },
  {
   "metadata": {
    "ExecuteTime": {
     "end_time": "2025-03-28T17:28:58.245791Z",
     "start_time": "2025-03-28T17:28:58.240663Z"
    }
   },
   "cell_type": "code",
   "source": "maps.quathelpers.ang_to_quat(3/2*np.pi, -np.pi/4)",
   "id": "2967fe2b7dacbf2b",
   "outputs": [
    {
     "data": {
      "text/plain": [
       "spt3g.core.quat(0,-1.29893e-16,-0.707107,-0.707107)"
      ]
     },
     "execution_count": 50,
     "metadata": {},
     "output_type": "execute_result"
    }
   ],
   "execution_count": 50
  },
  {
   "metadata": {},
   "cell_type": "code",
   "outputs": [],
   "execution_count": null,
   "source": "",
   "id": "f83eeca80e6a431f"
  }
 ],
 "metadata": {
  "kernelspec": {
   "display_name": "Python 3",
   "language": "python",
   "name": "python3"
  },
  "language_info": {
   "codemirror_mode": {
    "name": "ipython",
    "version": 2
   },
   "file_extension": ".py",
   "mimetype": "text/x-python",
   "name": "python",
   "nbconvert_exporter": "python",
   "pygments_lexer": "ipython2",
   "version": "2.7.6"
  }
 },
 "nbformat": 4,
 "nbformat_minor": 5
}
