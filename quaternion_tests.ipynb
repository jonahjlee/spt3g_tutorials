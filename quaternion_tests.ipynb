{
 "cells": [
  {
   "metadata": {},
   "cell_type": "markdown",
   "source": [
    "# Quaternion Tests\n",
    "\n",
    "The SPT-3G framework uses quaternions to encode pointing directions (e.g. boresight RA/DEC) as well as detector focal plane offsets. However, the methods used to map between RA/DEC <--> quaternions or lat/lon <--> quaterions are not always clear."
   ],
   "id": "7a6ff5eba89f1782"
  },
  {
   "metadata": {},
   "cell_type": "markdown",
   "source": [
    "SPT-3G's ``spt3g.core.maps`` package contains some methods relating to map pointing ([see documentation](https://cmb-s4.github.io/spt3g_software/moddoc_maps.html#map-pointing)):\n",
    "\n",
    "    \"This package also provides functions and pipline modules for creating and manipulating the quaternions necessary for mapmaking. In general, there are two forms of quaternions that are used throughout the code: pointing quaternions and rotation quaternions.\"\n",
    "\n"
   ],
   "id": "e41bf2d2a6ebcfe7"
  },
  {
   "metadata": {},
   "cell_type": "markdown",
   "source": [
    "The Simons Observatory's ``so3g.proj`` module ([see documentation](https://so3g.readthedocs.io/en/latest/proj.html)) contains methods which map between quaternions and multiple coordinate systems. Namely:\n",
    "- ``so3g.proj.quat.rotation_iso(theta, phi, psi=None)``\n",
    "- ``so3g.proj.quat.rotation_lonlat(lon, lat, psi=0.0)``\n",
    "- ``so3g.proj.quat.rotation_xieta(xi, eta, gamma=0)``\n",
    "\n",
    "The inverse methods also exist:\n",
    "- ``so3g.proj.quat.decompose_iso(q)``\n",
    "- ``so3g.proj.quat.decompose_lonlat(q)``\n",
    "- ``so3g.proj.quat.decompose_xieta(q)``"
   ],
   "id": "2c1832cf6d710628"
  },
  {
   "cell_type": "code",
   "id": "initial_id",
   "metadata": {
    "collapsed": true,
    "ExecuteTime": {
     "end_time": "2025-03-28T20:38:51.622685Z",
     "start_time": "2025-03-28T20:38:49.860484Z"
    }
   },
   "source": [
    "from spt3g import core, maps\n",
    "from spt3g.core import G3Units as U\n",
    "import numpy as np\n",
    "import matplotlib.pyplot as plt"
   ],
   "outputs": [],
   "execution_count": 2
  },
  {
   "metadata": {
    "ExecuteTime": {
     "end_time": "2025-03-28T18:34:33.195202Z",
     "start_time": "2025-03-28T18:34:33.192144Z"
    }
   },
   "cell_type": "code",
   "source": "from so3g import proj",
   "id": "1785e0e66acfd8d8",
   "outputs": [],
   "execution_count": 3
  },
  {
   "metadata": {},
   "cell_type": "markdown",
   "source": [
    "## 1. SPT-3G Methods\n",
    "\n",
    "As described in the docs linked above, quaternions can represent either:\n",
    "\n",
    "1. A pointing quaternion. In this case, the information is encoded in the vector component of the quaternion, i.e., the second, third and fourth components. I believe a pointing quaternion would typically have magnitude $||q||=1$ and zero real component. However, we will show below that the method ``maps.quat_to_ang`` does not enforce this.\n",
    "\n",
    "2. A rotation quaternion. A rotation quaternion must be a unit quaternion (i.e., $||q||=1$ ). According to the ``spt3g.maps`` [docs](https://cmb-s4.github.io/spt3g_software/moddoc_maps.html#rotation-quaternions), A rotation quaternion $q_r$ be applied to a pointing quaternion $q_p$ by the formula:  $$q_{p,rot} = q_r * q_p / q_r\\,.$$ A rotation quaternion can be interpreted as a rotation by an angle $\\theta$ about a direction $\\hat{\\textbf{u}}$ where $\\hat{\\textbf{u}}=u_x\\hat{\\textbf{i}} + u_y\\hat{\\textbf{j}} + u_z\\hat{\\textbf{k}}$. In this case, the quaternion will be given by: $$q=\\cos(\\frac{\\theta}{2}) + \\sin(\\frac{\\theta}{2}) \\hat{u} = \\cos(\\frac{\\theta}{2}) + \\sin(\\frac{\\theta}{2}) (u_x\\hat{\\textbf{i}} + u_y\\hat{\\textbf{j}} + u_z\\hat{\\textbf{k}})\\,.$$"
   ],
   "id": "aeae6f8d3abbe32a"
  },
  {
   "metadata": {},
   "cell_type": "markdown",
   "source": [
    "### 1.1 ``ang_to_quat``\n",
    "\n",
    "How do angles map to (pointing quaternions)?"
   ],
   "id": "8287f352f09ade31"
  },
  {
   "metadata": {
    "ExecuteTime": {
     "end_time": "2025-03-28T18:54:00.759271Z",
     "start_time": "2025-03-28T18:54:00.754947Z"
    }
   },
   "cell_type": "code",
   "source": [
    "# Test 1 - How does spt3g.maps map between RA (alpha) / DEC (delta) and quaternions?\n",
    "maps.ang_to_quat(0, 0)"
   ],
   "id": "7bdb2cbf18130571",
   "outputs": [
    {
     "data": {
      "text/plain": [
       "spt3g.core.quat(0,1,0,0)"
      ]
     },
     "execution_count": 18,
     "metadata": {},
     "output_type": "execute_result"
    }
   ],
   "execution_count": 18
  },
  {
   "metadata": {},
   "cell_type": "markdown",
   "source": [
    "We see from the above test that for spt3g pointing quaternions, RA/DEC = 0deg/0deg is mapped to the vector (1, 0, 0). This means that the positive x direction (AKA,  $\\hat{\\textbf{i}}$) points in the direction where $\\alpha=0$ and $\\delta=0$.\n",
    "\n",
    "In the next cells, we can confirm that $\\hat{\\textbf{j}}$ and $\\hat{\\textbf{k}}$ correspond to the directions shown in the sketch below."
   ],
   "id": "dead52a33edb510c"
  },
  {
   "metadata": {},
   "cell_type": "markdown",
   "source": "![test](ra_dec_sketch.jpg)",
   "id": "538992fdd0ba487a"
  },
  {
   "metadata": {
    "ExecuteTime": {
     "end_time": "2025-03-28T18:52:12.278299Z",
     "start_time": "2025-03-28T18:52:12.273874Z"
    }
   },
   "cell_type": "code",
   "source": [
    "# Test 2 - Confirming the y (j_hat) and direction for spt3g pointing quaternions\n",
    "y_pointing = maps.ang_to_quat(np.pi/2, 0)\n",
    "assert np.allclose([y_pointing.b, y_pointing.c, y_pointing.d], np.array([0, 1, 0]))\n",
    "print(y_pointing)"
   ],
   "id": "53d0768ecf70cfd9",
   "outputs": [
    {
     "name": "stdout",
     "output_type": "stream",
     "text": [
      "(0,6.12323e-17,1,0)\n"
     ]
    }
   ],
   "execution_count": 16
  },
  {
   "metadata": {
    "ExecuteTime": {
     "end_time": "2025-03-28T18:52:10.428027Z",
     "start_time": "2025-03-28T18:52:10.423425Z"
    }
   },
   "cell_type": "code",
   "source": [
    "# Test 3 - Confirming the z (k_hat) and direction for spt3g pointing quaternions\n",
    "z_pointing = maps.ang_to_quat(0, np.pi/2)\n",
    "assert np.allclose([z_pointing.b, z_pointing.c, z_pointing.d], np.array([0, 0, 1]))\n",
    "print(z_pointing)"
   ],
   "id": "f6e81973c80e0d4d",
   "outputs": [
    {
     "name": "stdout",
     "output_type": "stream",
     "text": [
      "(0,6.12323e-17,0,1)\n"
     ]
    }
   ],
   "execution_count": 15
  },
  {
   "metadata": {},
   "cell_type": "markdown",
   "source": [
    "### 1.2 ``quat_to_ang``\n",
    "\n",
    "How do pointing quaternions map to RA/DEC angles?"
   ],
   "id": "daf362a1a15ad025"
  },
  {
   "metadata": {
    "ExecuteTime": {
     "end_time": "2025-03-28T18:57:36.007505Z",
     "start_time": "2025-03-28T18:57:36.003124Z"
    }
   },
   "cell_type": "code",
   "source": [
    "# Test 4 - inverting the known x, y and z pointing quaternions from section 1.1\n",
    "ra, dec = maps.quat_to_ang(core.quat(0, 1, 0, 0))\n",
    "print(f\"X direction -- RA (deg): {ra * 180 / np.pi}, DEC (deg): {dec * 180 / np.pi}\")\n",
    "\n",
    "ra, dec = maps.quat_to_ang(core.quat(0, 0, 1, 0))\n",
    "print(f\"Y direction -- RA (deg): {ra * 180 / np.pi}, DEC (deg): {dec * 180 / np.pi}\")\n",
    "\n",
    "ra, dec = maps.quat_to_ang(core.quat(0, 0, 0, 1))\n",
    "print(f\"Z direction -- RA (deg): {ra * 180 / np.pi}, DEC (deg): {dec * 180 / np.pi}\")"
   ],
   "id": "9a59ae5aa67f6618",
   "outputs": [
    {
     "name": "stdout",
     "output_type": "stream",
     "text": [
      "X direction -- RA (deg): 0.0, DEC (deg): 0.0\n",
      "Y direction -- RA (deg): 90.0, DEC (deg): 0.0\n",
      "Z direction -- RA (deg): 0.0, DEC (deg): 90.0\n"
     ]
    }
   ],
   "execution_count": 20
  },
  {
   "metadata": {
    "ExecuteTime": {
     "end_time": "2025-03-28T19:01:35.250529Z",
     "start_time": "2025-03-28T19:01:35.246537Z"
    }
   },
   "cell_type": "code",
   "source": [
    "# Test 5 - pointing quaternions with non-zero real components\n",
    "for realval in (0., 1., 100., 1000., -10., 0.333, np.pi):\n",
    "    ra, dec = maps.quat_to_ang(core.quat(realval, 1, 0, 0))\n",
    "    print(f\"Real component: {realval:>6.5}, RA (deg): {ra * 180 / np.pi}, DEC (deg): {dec * 180 / np.pi}\")\n",
    "# conclusion: quat_to_ang ignores the real component of quaternions,\n",
    "# as they are expected to be pointing quaternions where the information is only in the vector component"
   ],
   "id": "8fc4f9d303b26144",
   "outputs": [
    {
     "name": "stdout",
     "output_type": "stream",
     "text": [
      "Real component:    0.0, RA (deg): 0.0, DEC (deg): 0.0\n",
      "Real component:    1.0, RA (deg): 0.0, DEC (deg): 0.0\n",
      "Real component:  100.0, RA (deg): 0.0, DEC (deg): 0.0\n",
      "Real component: 1000.0, RA (deg): 0.0, DEC (deg): 0.0\n",
      "Real component:  -10.0, RA (deg): 0.0, DEC (deg): 0.0\n",
      "Real component:  0.333, RA (deg): 0.0, DEC (deg): 0.0\n",
      "Real component: 3.1416, RA (deg): 0.0, DEC (deg): 0.0\n"
     ]
    }
   ],
   "execution_count": 44
  },
  {
   "metadata": {
    "ExecuteTime": {
     "end_time": "2025-03-28T19:08:07.766017Z",
     "start_time": "2025-03-28T19:08:07.761020Z"
    }
   },
   "cell_type": "code",
   "source": [
    "# Test 6 - pointing quaternions with non-unit norms\n",
    "def norm(q): return (q.a**2 + q.b**2 + q.c**2 + q.d**2)**0.5\n",
    "test_quats = [\n",
    "    (0, np.sqrt(2)/2, np.sqrt(2)/2, 0),  # unit norm\n",
    "    (0, 1, 1, 0),                        # non-unit norm\n",
    "    (0, 1000, 1000, 0),                  # non-unit norm\n",
    "    (0, -np.sqrt(2)/2, -np.sqrt(2)/2, 0) # unit norm, opposite direction\n",
    "]\n",
    "for quat_args in test_quats:\n",
    "    q = core.quat(*quat_args)\n",
    "    ra, dec = maps.quat_to_ang(q)\n",
    "    print(f\"{q=} -- RA (deg): {ra * 180 / np.pi}, DEC (deg): {dec * 180 / np.pi}\")\n",
    "# conclusion: quat_to_ang treats pointing quaternions as if their vector component were normalized to 1"
   ],
   "id": "aa9cd6ce592941e",
   "outputs": [
    {
     "name": "stdout",
     "output_type": "stream",
     "text": [
      "q=spt3g.core.quat(0,0.707107,0.707107,0) -- RA (deg): 45.0, DEC (deg): 0.0\n",
      "q=spt3g.core.quat(0,1,1,0) -- RA (deg): 45.0, DEC (deg): 0.0\n",
      "q=spt3g.core.quat(0,1000,1000,0) -- RA (deg): 45.0, DEC (deg): 0.0\n",
      "q=spt3g.core.quat(0,-0.707107,-0.707107,0) -- RA (deg): -135.0, DEC (deg): 0.0\n"
     ]
    }
   ],
   "execution_count": 49
  },
  {
   "metadata": {},
   "cell_type": "markdown",
   "source": "## Appendix: Misc Experiments / Testing",
   "id": "d1b22cab3d34a7ec"
  },
  {
   "metadata": {
    "ExecuteTime": {
     "end_time": "2025-03-28T17:04:49.419449Z",
     "start_time": "2025-03-28T17:04:49.414787Z"
    }
   },
   "cell_type": "code",
   "source": [
    "def norm(q):\n",
    "    return (q.a**2 + q.b**2 + q.c**2 + q.d**2)**0.5\n",
    "\n",
    "q_to_gal = maps.get_fk5_j2000_to_gal_quat()\n",
    "\n"
   ],
   "id": "49e9009eb6b4cd05",
   "outputs": [],
   "execution_count": 6
  },
  {
   "metadata": {
    "ExecuteTime": {
     "end_time": "2025-03-28T17:14:06.797412Z",
     "start_time": "2025-03-28T17:14:06.792071Z"
    }
   },
   "cell_type": "code",
   "source": "maps.get_origin_rotator(0, np.pi / 4)",
   "id": "cee60b75b29ab35e",
   "outputs": [
    {
     "data": {
      "text/plain": [
       "spt3g.core.quat(0.92388,0,-0.382683,0)"
      ]
     },
     "execution_count": 10,
     "metadata": {},
     "output_type": "execute_result"
    }
   ],
   "execution_count": 10
  },
  {
   "metadata": {
    "ExecuteTime": {
     "end_time": "2025-03-28T17:20:47.166476Z",
     "start_time": "2025-03-28T17:20:47.161248Z"
    }
   },
   "cell_type": "code",
   "source": [
    "angle = maps.get_rot_ang(core.quat(0, 1, 0, 0), core.quat(0.92388,0,-0.382683,0))\n",
    "angle * 180 / np.pi"
   ],
   "id": "a1557554fff696ce",
   "outputs": [
    {
     "data": {
      "text/plain": [
       "1.2074182697257333e-06"
      ]
     },
     "execution_count": 27,
     "metadata": {},
     "output_type": "execute_result"
    }
   ],
   "execution_count": 27
  },
  {
   "metadata": {},
   "cell_type": "code",
   "outputs": [],
   "execution_count": null,
   "source": "",
   "id": "1ef354034cccc00"
  },
  {
   "metadata": {},
   "cell_type": "markdown",
   "source": [
    "    spt3g.maps.offsets_to_quat\n",
    "\n",
    "    offsets_to_quat( (float)x, (float)y) -> Quat :\n",
    "\n",
    "    Returns the vector quaternion (0,1,0,0) rotated by the given x and y offsets. Equivalent to t * quat(0,1,0,0) / t, where t = get_origin_rotator(x, -y)\n",
    "\n",
    "Why negative y?\n"
   ],
   "id": "cbfa7fa07ed5ce59"
  },
  {
   "metadata": {
    "ExecuteTime": {
     "end_time": "2025-03-28T17:27:36.129386Z",
     "start_time": "2025-03-28T17:27:36.123679Z"
    }
   },
   "cell_type": "code",
   "source": "maps.quathelpers.quat_to_ang(core.quat(0, 1, 1, 0))",
   "id": "e6b6ce16bf8b8e92",
   "outputs": [
    {
     "data": {
      "text/plain": [
       "(np.float64(0.7853981633974483), np.float64(0.0))"
      ]
     },
     "execution_count": 47,
     "metadata": {},
     "output_type": "execute_result"
    }
   ],
   "execution_count": 47
  },
  {
   "metadata": {
    "ExecuteTime": {
     "end_time": "2025-03-28T17:28:58.245791Z",
     "start_time": "2025-03-28T17:28:58.240663Z"
    }
   },
   "cell_type": "code",
   "source": "maps.quathelpers.ang_to_quat(3/2*np.pi, -np.pi/4)",
   "id": "2967fe2b7dacbf2b",
   "outputs": [
    {
     "data": {
      "text/plain": [
       "spt3g.core.quat(0,-1.29893e-16,-0.707107,-0.707107)"
      ]
     },
     "execution_count": 50,
     "metadata": {},
     "output_type": "execute_result"
    }
   ],
   "execution_count": 50
  },
  {
   "metadata": {
    "ExecuteTime": {
     "end_time": "2025-03-28T20:57:28.765049Z",
     "start_time": "2025-03-28T20:57:28.760845Z"
    }
   },
   "cell_type": "code",
   "source": [
    "as_0, ds_0 = (0, 0)        # positive x\n",
    "as_1, ds_1 = (0, np.pi/2)  # positive z\n",
    "\n",
    "ae_0, de_0 = (0, np.pi/2)  # positive z\n",
    "ae_1, de_1 = (np.pi, 0)    # negative x\n",
    "\n",
    "# the transform_quat should be a -90 degree rotation about the y axis, or a 90 degree rotation about the -y axis\n",
    "# either way, we expect the quaternion to be equal to cos(90deg/2) + sin(-90deg/2)<0, 1, 0>\n",
    "ninety_degrees = np.pi/2\n",
    "q_expected = core.quat(np.cos(ninety_degrees/2), 0, -np.sin(ninety_degrees/2), 0)\n",
    "\n",
    "q_obtained = maps.get_transform_quat(as_0, ds_0, ae_0, de_0, as_1, ds_1, ae_1, de_1)\n",
    "\n",
    "print(f\"{q_expected=}, {q_obtained=}\")"
   ],
   "id": "f83eeca80e6a431f",
   "outputs": [
    {
     "name": "stdout",
     "output_type": "stream",
     "text": [
      "q_expected=spt3g.core.quat(0.707107,0,-0.707107,0), q_obtained=spt3g.core.quat(0.707107,0,-0.707107,0)\n"
     ]
    }
   ],
   "execution_count": 10
  },
  {
   "metadata": {
    "ExecuteTime": {
     "end_time": "2025-03-28T20:57:29.749900Z",
     "start_time": "2025-03-28T20:57:29.744715Z"
    }
   },
   "cell_type": "code",
   "source": [
    "as_0, ds_0 = (0, 0)        # positive x\n",
    "as_1, ds_1 = (0, np.pi/2)  # positive z\n",
    "\n",
    "ae_0, de_0 = (0, np.pi/2)  # positive z\n",
    "ae_1, de_1 = (0, 0)        # positive x\n",
    "\n",
    "# the transform_quat should be a +-180 degree rotation about the axis in between positive x and positive z\n",
    "# that axis would be given by RA (alpha) = 0 and DEC (delta) = pi/4, so we use ang_to_quat to get the expected axis\n",
    "rotation_axis = maps.ang_to_quat(0, np.pi/4)\n",
    "one_eighty_degrees = np.pi\n",
    "q_expected = core.quat(\n",
    "    np.cos(one_eighty_degrees/2),\n",
    "    np.sin(one_eighty_degrees/2) * rotation_axis.b,\n",
    "    np.sin(one_eighty_degrees/2) * rotation_axis.c,\n",
    "    np.sin(one_eighty_degrees/2) * rotation_axis.d\n",
    ")\n",
    "\n",
    "q_obtained = maps.get_transform_quat(as_0, ds_0, ae_0, de_0, as_1, ds_1, ae_1, de_1)\n",
    "print(f\"{rotation_axis=}\")\n",
    "print(f\"{q_expected=}, {q_obtained=}\")"
   ],
   "id": "bfe644353a7074f2",
   "outputs": [
    {
     "name": "stdout",
     "output_type": "stream",
     "text": [
      "rotation_axis=spt3g.core.quat(0,0.707107,0,0.707107)\n",
      "q_expected=spt3g.core.quat(6.12323e-17,0.707107,0,0.707107), q_obtained=spt3g.core.quat(4.32978e-17,0.707107,-4.32978e-17,0.707107)\n"
     ]
    }
   ],
   "execution_count": 11
  },
  {
   "metadata": {
    "ExecuteTime": {
     "end_time": "2025-03-28T21:07:37.267174Z",
     "start_time": "2025-03-28T21:07:37.241821Z"
    }
   },
   "cell_type": "code",
   "source": [
    "def assert_quats_equal(q1, q2, msg=\"q1 and q2 are not equal!\"):\n",
    "    assert np.allclose([q1.a, q1.b, q1.c, q1.d], [q2.a, q2.b, q2.c, q2.d]), msg\n",
    "\n",
    "\n",
    "# this time we test an impossible configuration -- if the angle between s_0 and s_1 is different from the angle between e_0 and e_1,\n",
    "# there should be no valid rotation solution which \"will take (as_0,ds_0) to (ae_0, de_0) and (as_1, ds_1) to (ae_1, de_1)\"\n",
    "\n",
    "as_0, ds_0 = (0, 0)        # positive x\n",
    "as_1, ds_1 = (0, np.pi/2)  # positive z\n",
    "\n",
    "ae_0, de_0 = (0, np.pi/2)  # positive z\n",
    "ae_1, de_1 = (0, -np.pi/2) # negative z\n",
    "\n",
    "# I have no idea what to expect, except an error\n",
    "q_obtained = maps.get_transform_quat(as_0, ds_0, ae_0, de_0, as_1, ds_1, ae_1, de_1)\n",
    "print(f\"{q_obtained=}\")\n",
    "\n",
    "# the result: (0, sqrt(2)/2, 0, sqrt(2)/2)\n",
    "# this corresponds to a rotation of 180 degrees (since the real component is zero, theta/2 is likely pi/2) about the axis between +x and +z.\n",
    "# In fact, this is the same output as in the last test. The result does map as_0, ds_0 to ae_0, de_0 but does not do the same for as_1, ds_1 to ae_1, de_1\n",
    "\n",
    "\n",
    "assert_quats_equal(\n",
    "    q_obtained * maps.ang_to_quat(as_0, ds_0) / q_obtained,\n",
    "    maps.ang_to_quat(ae_0, de_0)\n",
    ")\n",
    "\n",
    "assert_quats_equal(\n",
    "    q_obtained * maps.ang_to_quat(as_1, ds_1) / q_obtained,\n",
    "    maps.ang_to_quat(ae_1, de_1),\n",
    "    \"applying q_obtained to as_1/ds_1 does not map to ae_1/de_1!\"\n",
    ")"
   ],
   "id": "bfdccc3eff96fb21",
   "outputs": [
    {
     "name": "stdout",
     "output_type": "stream",
     "text": [
      "q_obtained=spt3g.core.quat(4.32978e-17,0.707107,-4.32978e-17,0.707107)\n"
     ]
    },
    {
     "ename": "AssertionError",
     "evalue": "applying q_obtained to as_1/ds_1 does not map to ae_1/de_1!",
     "output_type": "error",
     "traceback": [
      "\u001B[0;31m---------------------------------------------------------------------------\u001B[0m",
      "\u001B[0;31mAssertionError\u001B[0m                            Traceback (most recent call last)",
      "Cell \u001B[0;32mIn[21], line 28\u001B[0m\n\u001B[1;32m     18\u001B[0m \u001B[38;5;66;03m# the result: (0, sqrt(2)/2, 0, sqrt(2)/2)\u001B[39;00m\n\u001B[1;32m     19\u001B[0m \u001B[38;5;66;03m# this corresponds to a rotation of 180 degrees (since the real component is zero, theta/2 is likely pi/2) about the axis between +x and +z.\u001B[39;00m\n\u001B[1;32m     20\u001B[0m \u001B[38;5;66;03m# In fact, this is the same output as in the last test. The result does map as_0, ds_0 to ae_0, de_0 but does not do the same for as_1, ds_1 to ae_1, de_1\u001B[39;00m\n\u001B[1;32m     23\u001B[0m assert_quats_equal(\n\u001B[1;32m     24\u001B[0m     q_obtained \u001B[38;5;241m*\u001B[39m maps\u001B[38;5;241m.\u001B[39mang_to_quat(as_0, ds_0) \u001B[38;5;241m/\u001B[39m q_obtained,\n\u001B[1;32m     25\u001B[0m     maps\u001B[38;5;241m.\u001B[39mang_to_quat(ae_0, de_0)\n\u001B[1;32m     26\u001B[0m )\n\u001B[0;32m---> 28\u001B[0m \u001B[43massert_quats_equal\u001B[49m\u001B[43m(\u001B[49m\n\u001B[1;32m     29\u001B[0m \u001B[43m    \u001B[49m\u001B[43mq_obtained\u001B[49m\u001B[43m \u001B[49m\u001B[38;5;241;43m*\u001B[39;49m\u001B[43m \u001B[49m\u001B[43mmaps\u001B[49m\u001B[38;5;241;43m.\u001B[39;49m\u001B[43mang_to_quat\u001B[49m\u001B[43m(\u001B[49m\u001B[43mas_1\u001B[49m\u001B[43m,\u001B[49m\u001B[43m \u001B[49m\u001B[43mds_1\u001B[49m\u001B[43m)\u001B[49m\u001B[43m \u001B[49m\u001B[38;5;241;43m/\u001B[39;49m\u001B[43m \u001B[49m\u001B[43mq_obtained\u001B[49m\u001B[43m,\u001B[49m\n\u001B[1;32m     30\u001B[0m \u001B[43m    \u001B[49m\u001B[43mmaps\u001B[49m\u001B[38;5;241;43m.\u001B[39;49m\u001B[43mang_to_quat\u001B[49m\u001B[43m(\u001B[49m\u001B[43mae_1\u001B[49m\u001B[43m,\u001B[49m\u001B[43m \u001B[49m\u001B[43mde_1\u001B[49m\u001B[43m)\u001B[49m\u001B[43m,\u001B[49m\n\u001B[1;32m     31\u001B[0m \u001B[43m    \u001B[49m\u001B[38;5;124;43m\"\u001B[39;49m\u001B[38;5;124;43mapplying q_obtained to as_1/ds_1 does not map to ae_1/de_1!\u001B[39;49m\u001B[38;5;124;43m\"\u001B[39;49m\n\u001B[1;32m     32\u001B[0m \u001B[43m)\u001B[49m\n",
      "Cell \u001B[0;32mIn[21], line 2\u001B[0m, in \u001B[0;36massert_quats_equal\u001B[0;34m(q1, q2, msg)\u001B[0m\n\u001B[1;32m      1\u001B[0m \u001B[38;5;28;01mdef\u001B[39;00m\u001B[38;5;250m \u001B[39m\u001B[38;5;21massert_quats_equal\u001B[39m(q1, q2, msg\u001B[38;5;241m=\u001B[39m\u001B[38;5;124m\"\u001B[39m\u001B[38;5;124mq1 and q2 are not equal!\u001B[39m\u001B[38;5;124m\"\u001B[39m):\n\u001B[0;32m----> 2\u001B[0m     \u001B[38;5;28;01massert\u001B[39;00m np\u001B[38;5;241m.\u001B[39mallclose([q1\u001B[38;5;241m.\u001B[39ma, q1\u001B[38;5;241m.\u001B[39mb, q1\u001B[38;5;241m.\u001B[39mc, q1\u001B[38;5;241m.\u001B[39md], [q2\u001B[38;5;241m.\u001B[39ma, q2\u001B[38;5;241m.\u001B[39mb, q2\u001B[38;5;241m.\u001B[39mc, q2\u001B[38;5;241m.\u001B[39md]), msg\n",
      "\u001B[0;31mAssertionError\u001B[0m: applying q_obtained to as_1/ds_1 does not map to ae_1/de_1!"
     ]
    }
   ],
   "execution_count": 21
  },
  {
   "metadata": {
    "ExecuteTime": {
     "end_time": "2025-03-28T21:08:15.659999Z",
     "start_time": "2025-03-28T21:08:15.654347Z"
    }
   },
   "cell_type": "code",
   "source": [
    "# again, it is no surprise that this doesn't work -- the angles between the vectors are not the same.\n",
    "# recalling u dot v = |u||v|cos(theta)\n",
    "def norm(q):\n",
    "    return (q.a**2 + q.b**2 + q.c**2 + q.d**2)**0.5\n",
    "def angle(q1, q2):\n",
    "    \"\"\"Determine the angle in radians between two pointing quaternions.\"\"\"\n",
    "    assert q1.a == 0, \"pointing quaternion must only have vector (non-real) component!\"\n",
    "    assert q2.a == 0, \"pointing quaternion must only have vector (non-real) component!\"\n",
    "    return np.acos(np.dot([q1.b, q1.c, q1.d], [q2.b, q2.c, q2.d]) / norm(q1) / norm(q2))\n",
    "\n",
    "print(f'{angle(maps.ang_to_quat(as_0, ds_0), maps.ang_to_quat(as_1, ds_1))=}')\n",
    "print(f'{angle(maps.ang_to_quat(ae_0, de_0), maps.ang_to_quat(ae_1, de_1))=}')"
   ],
   "id": "1a8f0d52232c8d80",
   "outputs": [
    {
     "name": "stdout",
     "output_type": "stream",
     "text": [
      "angle(maps.ang_to_quat(as_0, ds_0), maps.ang_to_quat(as_1, ds_1))=np.float64(1.5707963267948966)\n",
      "angle(maps.ang_to_quat(ae_0, de_0), maps.ang_to_quat(ae_1, de_1))=np.float64(3.141592653589793)\n"
     ]
    }
   ],
   "execution_count": 24
  },
  {
   "metadata": {},
   "cell_type": "code",
   "outputs": [],
   "execution_count": null,
   "source": "",
   "id": "966267bed21151f"
  }
 ],
 "metadata": {
  "kernelspec": {
   "display_name": "Python 3",
   "language": "python",
   "name": "python3"
  },
  "language_info": {
   "codemirror_mode": {
    "name": "ipython",
    "version": 2
   },
   "file_extension": ".py",
   "mimetype": "text/x-python",
   "name": "python",
   "nbconvert_exporter": "python",
   "pygments_lexer": "ipython2",
   "version": "2.7.6"
  }
 },
 "nbformat": 4,
 "nbformat_minor": 5
}
